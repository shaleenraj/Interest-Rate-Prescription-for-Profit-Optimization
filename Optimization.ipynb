{
 "cells": [
  {
   "cell_type": "code",
   "execution_count": 1,
   "id": "482a84a3",
   "metadata": {},
   "outputs": [],
   "source": [
    "using JuMP, Gurobi"
   ]
  },
  {
   "cell_type": "code",
   "execution_count": 11,
   "id": "7ecbea1e",
   "metadata": {},
   "outputs": [
    {
     "name": "stderr",
     "output_type": "stream",
     "text": [
      "`DataFrames` is pinned at `v1.2.2`: maintaining pinned version\n",
      "\u001b[32m\u001b[1m  Resolving\u001b[22m\u001b[39m package versions...\n",
      "\u001b[32m\u001b[1mNo Changes\u001b[22m\u001b[39m to `~/.julia/environments/v1.5/Project.toml`\n",
      "\u001b[32m\u001b[1mNo Changes\u001b[22m\u001b[39m to `~/.julia/environments/v1.5/Manifest.toml`\n"
     ]
    }
   ],
   "source": [
    "import Pkg \n",
    "Pkg.add(\"DataFrames\")"
   ]
  },
  {
   "cell_type": "code",
   "execution_count": 12,
   "id": "dc94bf55",
   "metadata": {},
   "outputs": [],
   "source": [
    "using CSV,DataFrames"
   ]
  },
  {
   "cell_type": "code",
   "execution_count": 164,
   "id": "7de6619e",
   "metadata": {},
   "outputs": [
    {
     "data": {
      "text/html": [
       "<div class=\"data-frame\"><p>18,145 rows × 19 columns (omitted printing of 14 columns)</p><table class=\"data-frame\"><thead><tr><th></th><th>addr_state</th><th>annual_inc</th><th>earliest_cr_line_month</th><th>emp_length(years)</th><th>funded_amnt_inv</th></tr><tr><th></th><th title=\"Int64\">Int64</th><th title=\"Float64\">Float64</th><th title=\"Int64\">Int64</th><th title=\"Int64\">Int64</th><th title=\"Float64\">Float64</th></tr></thead><tbody><tr><th>1</th><td>1</td><td>24000.0</td><td>1</td><td>10</td><td>4975.0</td></tr><tr><th>2</th><td>2</td><td>30000.0</td><td>4</td><td>0</td><td>2500.0</td></tr><tr><th>3</th><td>3</td><td>12252.0</td><td>11</td><td>10</td><td>2400.0</td></tr><tr><th>4</th><td>1</td><td>36000.0</td><td>11</td><td>3</td><td>5000.0</td></tr><tr><th>5</th><td>3</td><td>15000.0</td><td>7</td><td>3</td><td>3000.0</td></tr><tr><th>6</th><td>4</td><td>100000.0</td><td>5</td><td>3</td><td>10000.0</td></tr><tr><th>7</th><td>10</td><td>84000.0</td><td>10</td><td>1</td><td>6000.0</td></tr><tr><th>8</th><td>4</td><td>77385.2</td><td>1</td><td>6</td><td>9200.0</td></tr><tr><th>9</th><td>11</td><td>105000.0</td><td>2</td><td>10</td><td>21000.0</td></tr><tr><th>10</th><td>4</td><td>50000.0</td><td>4</td><td>5</td><td>10000.0</td></tr><tr><th>11</th><td>4</td><td>76000.0</td><td>6</td><td>1</td><td>6000.0</td></tr><tr><th>12</th><td>3</td><td>92000.0</td><td>2</td><td>2</td><td>15000.0</td></tr><tr><th>13</th><td>13</td><td>50004.0</td><td>10</td><td>2</td><td>5000.0</td></tr><tr><th>14</th><td>14</td><td>25000.0</td><td>11</td><td>0</td><td>8500.0</td></tr><tr><th>15</th><td>15</td><td>75000.0</td><td>11</td><td>5</td><td>31825.0</td></tr><tr><th>16</th><td>4</td><td>34000.0</td><td>10</td><td>7</td><td>7000.0</td></tr><tr><th>17</th><td>4</td><td>55596.0</td><td>12</td><td>2</td><td>10800.0</td></tr><tr><th>18</th><td>1</td><td>36852.0</td><td>4</td><td>1</td><td>6000.0</td></tr><tr><th>19</th><td>19</td><td>68004.0</td><td>1</td><td>4</td><td>9600.0</td></tr><tr><th>20</th><td>15</td><td>62300.0</td><td>3</td><td>10</td><td>12000.0</td></tr><tr><th>21</th><td>20</td><td>55000.0</td><td>6</td><td>10</td><td>4400.0</td></tr><tr><th>22</th><td>21</td><td>45600.0</td><td>11</td><td>10</td><td>6000.0</td></tr><tr><th>23</th><td>18</td><td>100000.0</td><td>6</td><td>10</td><td>5000.0</td></tr><tr><th>24</th><td>9</td><td>70000.0</td><td>1</td><td>5</td><td>11000.0</td></tr><tr><th>25</th><td>3</td><td>80000.0</td><td>4</td><td>8</td><td>15000.0</td></tr><tr><th>26</th><td>4</td><td>50000.0</td><td>10</td><td>4</td><td>12000.0</td></tr><tr><th>27</th><td>22</td><td>81000.0</td><td>12</td><td>7</td><td>15950.0</td></tr><tr><th>28</th><td>16</td><td>39000.0</td><td>12</td><td>0</td><td>10000.0</td></tr><tr><th>29</th><td>6</td><td>51400.0</td><td>10</td><td>2</td><td>10000.0</td></tr><tr><th>30</th><td>6</td><td>33000.0</td><td>4</td><td>1</td><td>7100.0</td></tr><tr><th>&vellip;</th><td>&vellip;</td><td>&vellip;</td><td>&vellip;</td><td>&vellip;</td><td>&vellip;</td></tr></tbody></table></div>"
      ],
      "text/latex": [
       "\\begin{tabular}{r|cccccc}\n",
       "\t& addr\\_state & annual\\_inc & earliest\\_cr\\_line\\_month & emp\\_length(years) & funded\\_amnt\\_inv & \\\\\n",
       "\t\\hline\n",
       "\t& Int64 & Float64 & Int64 & Int64 & Float64 & \\\\\n",
       "\t\\hline\n",
       "\t1 & 1 & 24000.0 & 1 & 10 & 4975.0 & $\\dots$ \\\\\n",
       "\t2 & 2 & 30000.0 & 4 & 0 & 2500.0 & $\\dots$ \\\\\n",
       "\t3 & 3 & 12252.0 & 11 & 10 & 2400.0 & $\\dots$ \\\\\n",
       "\t4 & 1 & 36000.0 & 11 & 3 & 5000.0 & $\\dots$ \\\\\n",
       "\t5 & 3 & 15000.0 & 7 & 3 & 3000.0 & $\\dots$ \\\\\n",
       "\t6 & 4 & 100000.0 & 5 & 3 & 10000.0 & $\\dots$ \\\\\n",
       "\t7 & 10 & 84000.0 & 10 & 1 & 6000.0 & $\\dots$ \\\\\n",
       "\t8 & 4 & 77385.2 & 1 & 6 & 9200.0 & $\\dots$ \\\\\n",
       "\t9 & 11 & 105000.0 & 2 & 10 & 21000.0 & $\\dots$ \\\\\n",
       "\t10 & 4 & 50000.0 & 4 & 5 & 10000.0 & $\\dots$ \\\\\n",
       "\t11 & 4 & 76000.0 & 6 & 1 & 6000.0 & $\\dots$ \\\\\n",
       "\t12 & 3 & 92000.0 & 2 & 2 & 15000.0 & $\\dots$ \\\\\n",
       "\t13 & 13 & 50004.0 & 10 & 2 & 5000.0 & $\\dots$ \\\\\n",
       "\t14 & 14 & 25000.0 & 11 & 0 & 8500.0 & $\\dots$ \\\\\n",
       "\t15 & 15 & 75000.0 & 11 & 5 & 31825.0 & $\\dots$ \\\\\n",
       "\t16 & 4 & 34000.0 & 10 & 7 & 7000.0 & $\\dots$ \\\\\n",
       "\t17 & 4 & 55596.0 & 12 & 2 & 10800.0 & $\\dots$ \\\\\n",
       "\t18 & 1 & 36852.0 & 4 & 1 & 6000.0 & $\\dots$ \\\\\n",
       "\t19 & 19 & 68004.0 & 1 & 4 & 9600.0 & $\\dots$ \\\\\n",
       "\t20 & 15 & 62300.0 & 3 & 10 & 12000.0 & $\\dots$ \\\\\n",
       "\t21 & 20 & 55000.0 & 6 & 10 & 4400.0 & $\\dots$ \\\\\n",
       "\t22 & 21 & 45600.0 & 11 & 10 & 6000.0 & $\\dots$ \\\\\n",
       "\t23 & 18 & 100000.0 & 6 & 10 & 5000.0 & $\\dots$ \\\\\n",
       "\t24 & 9 & 70000.0 & 1 & 5 & 11000.0 & $\\dots$ \\\\\n",
       "\t25 & 3 & 80000.0 & 4 & 8 & 15000.0 & $\\dots$ \\\\\n",
       "\t26 & 4 & 50000.0 & 10 & 4 & 12000.0 & $\\dots$ \\\\\n",
       "\t27 & 22 & 81000.0 & 12 & 7 & 15950.0 & $\\dots$ \\\\\n",
       "\t28 & 16 & 39000.0 & 12 & 0 & 10000.0 & $\\dots$ \\\\\n",
       "\t29 & 6 & 51400.0 & 10 & 2 & 10000.0 & $\\dots$ \\\\\n",
       "\t30 & 6 & 33000.0 & 4 & 1 & 7100.0 & $\\dots$ \\\\\n",
       "\t$\\dots$ & $\\dots$ & $\\dots$ & $\\dots$ & $\\dots$ & $\\dots$ &  \\\\\n",
       "\\end{tabular}\n"
      ],
      "text/plain": [
       "\u001b[1m18145×19 DataFrame\u001b[0m\n",
       "\u001b[1m   Row \u001b[0m│\u001b[1m addr_state \u001b[0m\u001b[1m annual_inc \u001b[0m\u001b[1m earliest_cr_line_month \u001b[0m\u001b[1m emp_length(years) \u001b[0m\u001b[1m fu\u001b[0m ⋯\n",
       "\u001b[1m       \u001b[0m│\u001b[90m Int64      \u001b[0m\u001b[90m Float64    \u001b[0m\u001b[90m Int64                  \u001b[0m\u001b[90m Int64             \u001b[0m\u001b[90m Fl\u001b[0m ⋯\n",
       "───────┼────────────────────────────────────────────────────────────────────────\n",
       "     1 │          1     24000.0                       1                 10     ⋯\n",
       "     2 │          2     30000.0                       4                  0\n",
       "     3 │          3     12252.0                      11                 10\n",
       "     4 │          1     36000.0                      11                  3\n",
       "     5 │          3     15000.0                       7                  3     ⋯\n",
       "     6 │          4    100000.0                       5                  3\n",
       "     7 │         10     84000.0                      10                  1\n",
       "     8 │          4     77385.2                       1                  6\n",
       "     9 │         11    105000.0                       2                 10     ⋯\n",
       "    10 │          4     50000.0                       4                  5\n",
       "    11 │          4     76000.0                       6                  1\n",
       "   ⋮   │     ⋮           ⋮                 ⋮                     ⋮             ⋱\n",
       " 18136 │         49     74000.0                       2                  7\n",
       " 18137 │          2     30000.0                       4                  1     ⋯\n",
       " 18138 │         12    200000.0                       2                  2\n",
       " 18139 │         22    120000.0                      10                  8\n",
       " 18140 │         24    180000.0                       6                  0\n",
       " 18141 │         24    180000.0                       2                  2     ⋯\n",
       " 18142 │         24     80000.0                       7                  0\n",
       " 18143 │         24     85000.0                      10                  1\n",
       " 18144 │          5     18000.0                      12                  3\n",
       " 18145 │         22    100000.0                      10                  0     ⋯\n",
       "\u001b[36m                                               15 columns and 18124 rows omitted\u001b[0m"
      ]
     },
     "execution_count": 164,
     "metadata": {},
     "output_type": "execute_result"
    }
   ],
   "source": [
    "test_result=CSV.read(\"/Users/shay/Desktop/finalml/test_result (1).csv\",DataFrame)"
   ]
  },
  {
   "cell_type": "code",
   "execution_count": 165,
   "id": "43eb6024",
   "metadata": {
    "scrolled": true
   },
   "outputs": [
    {
     "data": {
      "text/plain": [
       "18145-element SentinelArrays.ChainedVector{Float64,Array{Float64,1}}:\n",
       " 0.101363845\n",
       " 0.897824883\n",
       " 0.101363845\n",
       " 0.10136202\n",
       " 0.101363845\n",
       " 0.897831261\n",
       " 0.10136202\n",
       " 0.10136202\n",
       " 0.897831261\n",
       " 0.10136202\n",
       " 0.897831261\n",
       " 0.10136202\n",
       " 0.897824883\n",
       " ⋮\n",
       " 0.10136202\n",
       " 0.10136202\n",
       " 0.101363845\n",
       " 0.101363845\n",
       " 0.101363845\n",
       " 0.10136202\n",
       " 0.101363845\n",
       " 0.10136202\n",
       " 0.101363845\n",
       " 0.10136202\n",
       " 0.101363845\n",
       " 0.101363845"
      ]
     },
     "execution_count": 165,
     "metadata": {},
     "output_type": "execute_result"
    }
   ],
   "source": [
    "risk=test_result.risk_defaults"
   ]
  },
  {
   "cell_type": "code",
   "execution_count": 166,
   "id": "d1d0d22c",
   "metadata": {},
   "outputs": [
    {
     "data": {
      "text/plain": [
       "18145-element SentinelArrays.ChainedVector{Int64,Array{Int64,1}}:\n",
       " 3\n",
       " 5\n",
       " 3\n",
       " 3\n",
       " 3\n",
       " 3\n",
       " 3\n",
       " 3\n",
       " 3\n",
       " 3\n",
       " 3\n",
       " 3\n",
       " 5\n",
       " ⋮\n",
       " 3\n",
       " 3\n",
       " 3\n",
       " 3\n",
       " 3\n",
       " 3\n",
       " 3\n",
       " 3\n",
       " 3\n",
       " 3\n",
       " 3\n",
       " 3"
      ]
     },
     "execution_count": 166,
     "metadata": {},
     "output_type": "execute_result"
    }
   ],
   "source": [
    "term=test_result.term_convert"
   ]
  },
  {
   "cell_type": "code",
   "execution_count": 167,
   "id": "b442d856",
   "metadata": {},
   "outputs": [
    {
     "data": {
      "text/plain": [
       "18145-element SentinelArrays.ChainedVector{Float64,Array{Float64,1}}:\n",
       "  7.5\n",
       "  7.5\n",
       "  7.5\n",
       " 15.0\n",
       " 15.0\n",
       "  7.5\n",
       "  7.5\n",
       "  7.5\n",
       "  7.5\n",
       "  7.5\n",
       " 15.0\n",
       "  7.5\n",
       "  0.0\n",
       "  ⋮\n",
       " 15.0\n",
       "  7.5\n",
       " 15.0\n",
       " 15.0\n",
       " 15.0\n",
       " 15.0\n",
       " 15.0\n",
       " 15.0\n",
       "  7.5\n",
       " 15.0\n",
       " 15.0\n",
       " 15.0"
      ]
     },
     "execution_count": 167,
     "metadata": {},
     "output_type": "execute_result"
    }
   ],
   "source": [
    "int_rate=test_result.prescribed_int"
   ]
  },
  {
   "cell_type": "code",
   "execution_count": 168,
   "id": "d7acbc3d",
   "metadata": {},
   "outputs": [
    {
     "data": {
      "text/plain": [
       "18145-element SentinelArrays.ChainedVector{Int64,Array{Int64,1}}:\n",
       "  5000\n",
       "  2500\n",
       "  2400\n",
       "  5000\n",
       "  3000\n",
       " 10000\n",
       "  6000\n",
       "  9200\n",
       " 21000\n",
       " 10000\n",
       "  6000\n",
       " 15000\n",
       "  5000\n",
       "     ⋮\n",
       "  5100\n",
       "  5400\n",
       "  5300\n",
       "  5000\n",
       "  3000\n",
       "  5000\n",
       "  5000\n",
       "  5000\n",
       "  5000\n",
       "  5000\n",
       "  8500\n",
       "  5000"
      ]
     },
     "execution_count": 168,
     "metadata": {},
     "output_type": "execute_result"
    }
   ],
   "source": [
    "loan=test_result.loan_amnt"
   ]
  },
  {
   "cell_type": "code",
   "execution_count": 249,
   "id": "dc745368",
   "metadata": {},
   "outputs": [
    {
     "data": {
      "text/plain": [
       "18145-element SentinelArrays.ChainedVector{Int64,Array{Int64,1}}:\n",
       "  5000\n",
       "  2500\n",
       "  2400\n",
       "  5000\n",
       "  3000\n",
       " 10000\n",
       "  6000\n",
       "  9200\n",
       " 21000\n",
       " 10000\n",
       "  6000\n",
       " 15000\n",
       "  5000\n",
       "     ⋮\n",
       "  5100\n",
       "  5400\n",
       "  5300\n",
       "  5000\n",
       "  3000\n",
       "  5000\n",
       "  5000\n",
       "  5000\n",
       "  5000\n",
       "  5000\n",
       "  8500\n",
       "  5000"
      ]
     },
     "execution_count": 249,
     "metadata": {},
     "output_type": "execute_result"
    }
   ],
   "source": [
    "loan_max=test_result.loan_amnt"
   ]
  },
  {
   "cell_type": "code",
   "execution_count": 169,
   "id": "7fbf219c",
   "metadata": {},
   "outputs": [
    {
     "data": {
      "text/plain": [
       "18145-element SentinelArrays.ChainedVector{Float64,Array{Float64,1}}:\n",
       "  807.3611567\n",
       "  708.3966963\n",
       "  387.5333552\n",
       " 2819.719094\n",
       " 1691.831456\n",
       " 1614.722313\n",
       "  968.833388\n",
       " 1485.544528\n",
       " 3390.916858\n",
       " 1614.722313\n",
       " 3383.662912\n",
       " 2422.08347\n",
       "    0.0\n",
       "    ⋮\n",
       " 2876.113476\n",
       "  871.9500492\n",
       " 2988.902239\n",
       " 2819.719094\n",
       " 1691.831456\n",
       " 2819.719094\n",
       " 2819.719094\n",
       " 2819.719094\n",
       "  807.3611567\n",
       " 2819.719094\n",
       " 4793.522459\n",
       " 2819.719094"
      ]
     },
     "execution_count": 169,
     "metadata": {},
     "output_type": "execute_result"
    }
   ],
   "source": [
    "profit=test_result.PrescribedProfit"
   ]
  },
  {
   "cell_type": "code",
   "execution_count": 21,
   "id": "0c23d464",
   "metadata": {
    "scrolled": true
   },
   "outputs": [
    {
     "data": {
      "text/plain": [
       "18145"
      ]
     },
     "execution_count": 21,
     "metadata": {},
     "output_type": "execute_result"
    }
   ],
   "source": [
    "size(test_result)[1]"
   ]
  },
  {
   "cell_type": "code",
   "execution_count": 170,
   "id": "8dddad73",
   "metadata": {},
   "outputs": [
    {
     "data": {
      "text/plain": [
       "18145-element SentinelArrays.ChainedVector{Float64,Array{Float64,1}}:\n",
       "  7.5\n",
       "  7.5\n",
       "  7.5\n",
       " 15.0\n",
       " 15.0\n",
       "  7.5\n",
       "  7.5\n",
       "  7.5\n",
       "  7.5\n",
       "  7.5\n",
       " 15.0\n",
       "  7.5\n",
       "  0.0\n",
       "  ⋮\n",
       " 15.0\n",
       "  7.5\n",
       " 15.0\n",
       " 15.0\n",
       " 15.0\n",
       " 15.0\n",
       " 15.0\n",
       " 15.0\n",
       "  7.5\n",
       " 15.0\n",
       " 15.0\n",
       " 15.0"
      ]
     },
     "execution_count": 170,
     "metadata": {},
     "output_type": "execute_result"
    }
   ],
   "source": [
    "int_rate"
   ]
  },
  {
   "cell_type": "code",
   "execution_count": 111,
   "id": "9c895fd7",
   "metadata": {},
   "outputs": [
    {
     "data": {
      "text/html": [
       "<div class=\"data-frame\"><p>18,145 rows × 20 columns (omitted printing of 15 columns)</p><table class=\"data-frame\"><thead><tr><th></th><th>addr_state</th><th>annual_inc</th><th>earliest_cr_line_month</th><th>emp_length(years)</th><th>funded_amnt_inv</th></tr><tr><th></th><th title=\"Int64\">Int64</th><th title=\"Float64\">Float64</th><th title=\"Int64\">Int64</th><th title=\"Int64\">Int64</th><th title=\"Float64\">Float64</th></tr></thead><tbody><tr><th>1</th><td>1</td><td>24000.0</td><td>1</td><td>10</td><td>4975.0</td></tr><tr><th>2</th><td>2</td><td>30000.0</td><td>4</td><td>0</td><td>2500.0</td></tr><tr><th>3</th><td>3</td><td>12252.0</td><td>11</td><td>10</td><td>2400.0</td></tr><tr><th>4</th><td>1</td><td>36000.0</td><td>11</td><td>3</td><td>5000.0</td></tr><tr><th>5</th><td>3</td><td>15000.0</td><td>7</td><td>3</td><td>3000.0</td></tr><tr><th>6</th><td>4</td><td>100000.0</td><td>5</td><td>3</td><td>10000.0</td></tr><tr><th>7</th><td>10</td><td>84000.0</td><td>10</td><td>1</td><td>6000.0</td></tr><tr><th>8</th><td>4</td><td>77385.2</td><td>1</td><td>6</td><td>9200.0</td></tr><tr><th>9</th><td>11</td><td>105000.0</td><td>2</td><td>10</td><td>21000.0</td></tr><tr><th>10</th><td>4</td><td>50000.0</td><td>4</td><td>5</td><td>10000.0</td></tr><tr><th>11</th><td>4</td><td>76000.0</td><td>6</td><td>1</td><td>6000.0</td></tr><tr><th>12</th><td>3</td><td>92000.0</td><td>2</td><td>2</td><td>15000.0</td></tr><tr><th>13</th><td>13</td><td>50004.0</td><td>10</td><td>2</td><td>5000.0</td></tr><tr><th>14</th><td>14</td><td>25000.0</td><td>11</td><td>0</td><td>8500.0</td></tr><tr><th>15</th><td>15</td><td>75000.0</td><td>11</td><td>5</td><td>31825.0</td></tr><tr><th>16</th><td>4</td><td>34000.0</td><td>10</td><td>7</td><td>7000.0</td></tr><tr><th>17</th><td>4</td><td>55596.0</td><td>12</td><td>2</td><td>10800.0</td></tr><tr><th>18</th><td>1</td><td>36852.0</td><td>4</td><td>1</td><td>6000.0</td></tr><tr><th>19</th><td>19</td><td>68004.0</td><td>1</td><td>4</td><td>9600.0</td></tr><tr><th>20</th><td>15</td><td>62300.0</td><td>3</td><td>10</td><td>12000.0</td></tr><tr><th>21</th><td>20</td><td>55000.0</td><td>6</td><td>10</td><td>4400.0</td></tr><tr><th>22</th><td>21</td><td>45600.0</td><td>11</td><td>10</td><td>6000.0</td></tr><tr><th>23</th><td>18</td><td>100000.0</td><td>6</td><td>10</td><td>5000.0</td></tr><tr><th>24</th><td>9</td><td>70000.0</td><td>1</td><td>5</td><td>11000.0</td></tr><tr><th>25</th><td>3</td><td>80000.0</td><td>4</td><td>8</td><td>15000.0</td></tr><tr><th>26</th><td>4</td><td>50000.0</td><td>10</td><td>4</td><td>12000.0</td></tr><tr><th>27</th><td>22</td><td>81000.0</td><td>12</td><td>7</td><td>15950.0</td></tr><tr><th>28</th><td>16</td><td>39000.0</td><td>12</td><td>0</td><td>10000.0</td></tr><tr><th>29</th><td>6</td><td>51400.0</td><td>10</td><td>2</td><td>10000.0</td></tr><tr><th>30</th><td>6</td><td>33000.0</td><td>4</td><td>1</td><td>7100.0</td></tr><tr><th>&vellip;</th><td>&vellip;</td><td>&vellip;</td><td>&vellip;</td><td>&vellip;</td><td>&vellip;</td></tr></tbody></table></div>"
      ],
      "text/latex": [
       "\\begin{tabular}{r|cccccc}\n",
       "\t& addr\\_state & annual\\_inc & earliest\\_cr\\_line\\_month & emp\\_length(years) & funded\\_amnt\\_inv & \\\\\n",
       "\t\\hline\n",
       "\t& Int64 & Float64 & Int64 & Int64 & Float64 & \\\\\n",
       "\t\\hline\n",
       "\t1 & 1 & 24000.0 & 1 & 10 & 4975.0 & $\\dots$ \\\\\n",
       "\t2 & 2 & 30000.0 & 4 & 0 & 2500.0 & $\\dots$ \\\\\n",
       "\t3 & 3 & 12252.0 & 11 & 10 & 2400.0 & $\\dots$ \\\\\n",
       "\t4 & 1 & 36000.0 & 11 & 3 & 5000.0 & $\\dots$ \\\\\n",
       "\t5 & 3 & 15000.0 & 7 & 3 & 3000.0 & $\\dots$ \\\\\n",
       "\t6 & 4 & 100000.0 & 5 & 3 & 10000.0 & $\\dots$ \\\\\n",
       "\t7 & 10 & 84000.0 & 10 & 1 & 6000.0 & $\\dots$ \\\\\n",
       "\t8 & 4 & 77385.2 & 1 & 6 & 9200.0 & $\\dots$ \\\\\n",
       "\t9 & 11 & 105000.0 & 2 & 10 & 21000.0 & $\\dots$ \\\\\n",
       "\t10 & 4 & 50000.0 & 4 & 5 & 10000.0 & $\\dots$ \\\\\n",
       "\t11 & 4 & 76000.0 & 6 & 1 & 6000.0 & $\\dots$ \\\\\n",
       "\t12 & 3 & 92000.0 & 2 & 2 & 15000.0 & $\\dots$ \\\\\n",
       "\t13 & 13 & 50004.0 & 10 & 2 & 5000.0 & $\\dots$ \\\\\n",
       "\t14 & 14 & 25000.0 & 11 & 0 & 8500.0 & $\\dots$ \\\\\n",
       "\t15 & 15 & 75000.0 & 11 & 5 & 31825.0 & $\\dots$ \\\\\n",
       "\t16 & 4 & 34000.0 & 10 & 7 & 7000.0 & $\\dots$ \\\\\n",
       "\t17 & 4 & 55596.0 & 12 & 2 & 10800.0 & $\\dots$ \\\\\n",
       "\t18 & 1 & 36852.0 & 4 & 1 & 6000.0 & $\\dots$ \\\\\n",
       "\t19 & 19 & 68004.0 & 1 & 4 & 9600.0 & $\\dots$ \\\\\n",
       "\t20 & 15 & 62300.0 & 3 & 10 & 12000.0 & $\\dots$ \\\\\n",
       "\t21 & 20 & 55000.0 & 6 & 10 & 4400.0 & $\\dots$ \\\\\n",
       "\t22 & 21 & 45600.0 & 11 & 10 & 6000.0 & $\\dots$ \\\\\n",
       "\t23 & 18 & 100000.0 & 6 & 10 & 5000.0 & $\\dots$ \\\\\n",
       "\t24 & 9 & 70000.0 & 1 & 5 & 11000.0 & $\\dots$ \\\\\n",
       "\t25 & 3 & 80000.0 & 4 & 8 & 15000.0 & $\\dots$ \\\\\n",
       "\t26 & 4 & 50000.0 & 10 & 4 & 12000.0 & $\\dots$ \\\\\n",
       "\t27 & 22 & 81000.0 & 12 & 7 & 15950.0 & $\\dots$ \\\\\n",
       "\t28 & 16 & 39000.0 & 12 & 0 & 10000.0 & $\\dots$ \\\\\n",
       "\t29 & 6 & 51400.0 & 10 & 2 & 10000.0 & $\\dots$ \\\\\n",
       "\t30 & 6 & 33000.0 & 4 & 1 & 7100.0 & $\\dots$ \\\\\n",
       "\t$\\dots$ & $\\dots$ & $\\dots$ & $\\dots$ & $\\dots$ & $\\dots$ &  \\\\\n",
       "\\end{tabular}\n"
      ],
      "text/plain": [
       "\u001b[1m18145×20 DataFrame\u001b[0m\n",
       "\u001b[1m   Row \u001b[0m│\u001b[1m addr_state \u001b[0m\u001b[1m annual_inc \u001b[0m\u001b[1m earliest_cr_line_month \u001b[0m\u001b[1m emp_length(years) \u001b[0m\u001b[1m fu\u001b[0m ⋯\n",
       "\u001b[1m       \u001b[0m│\u001b[90m Int64      \u001b[0m\u001b[90m Float64    \u001b[0m\u001b[90m Int64                  \u001b[0m\u001b[90m Int64             \u001b[0m\u001b[90m Fl\u001b[0m ⋯\n",
       "───────┼────────────────────────────────────────────────────────────────────────\n",
       "     1 │          1     24000.0                       1                 10     ⋯\n",
       "     2 │          2     30000.0                       4                  0\n",
       "     3 │          3     12252.0                      11                 10\n",
       "     4 │          1     36000.0                      11                  3\n",
       "     5 │          3     15000.0                       7                  3     ⋯\n",
       "     6 │          4    100000.0                       5                  3\n",
       "     7 │         10     84000.0                      10                  1\n",
       "     8 │          4     77385.2                       1                  6\n",
       "     9 │         11    105000.0                       2                 10     ⋯\n",
       "    10 │          4     50000.0                       4                  5\n",
       "    11 │          4     76000.0                       6                  1\n",
       "   ⋮   │     ⋮           ⋮                 ⋮                     ⋮             ⋱\n",
       " 18136 │         49     74000.0                       2                  7\n",
       " 18137 │          2     30000.0                       4                  1     ⋯\n",
       " 18138 │         12    200000.0                       2                  2\n",
       " 18139 │         22    120000.0                      10                  8\n",
       " 18140 │         24    180000.0                       6                  0\n",
       " 18141 │         24    180000.0                       2                  2     ⋯\n",
       " 18142 │         24     80000.0                       7                  0\n",
       " 18143 │         24     85000.0                      10                  1\n",
       " 18144 │          5     18000.0                      12                  3\n",
       " 18145 │         22    100000.0                      10                  0     ⋯\n",
       "\u001b[36m                                               16 columns and 18124 rows omitted\u001b[0m"
      ]
     },
     "execution_count": 111,
     "metadata": {},
     "output_type": "execute_result"
    }
   ],
   "source": [
    "final_test=hcat(test_result,z)"
   ]
  },
  {
   "cell_type": "code",
   "execution_count": 311,
   "id": "e62ec615",
   "metadata": {},
   "outputs": [
    {
     "data": {
      "text/plain": [
       "opt3 (generic function with 2 methods)"
      ]
     },
     "execution_count": 311,
     "metadata": {},
     "output_type": "execute_result"
    }
   ],
   "source": [
    "# prescribing loan\n",
    "# DO NOT DELETE \n",
    "\n",
    "function opt3(risk,term,loan_max,int_rate; solver_output=0)\n",
    "    \n",
    "    \n",
    "    opt1= Model(Gurobi.Optimizer)\n",
    "    set_optimizer_attribute(opt1, \"OutputFlag\", 0)\n",
    "    MOI.set(opt1, MOI.RawParameter(\"TimeLimit\"), 400.0)\n",
    "    \n",
    "    n=size(test_result)[1] #size of the test set\n",
    "\n",
    "    #defining variables \n",
    "    @variable(opt1, z[i=1:n]>=0,Bin)\n",
    "    @variable(opt1, loan[i=1:n]>=0)\n",
    "    \n",
    "     #defining constraints \n",
    "    \n",
    "    @constraint(opt1,sum(z[i] for i=1:n)<=15000)\n",
    "    @constraint(opt1,sum(loan[i] for i=1:n)<=150000000) #1 b budge \n",
    "    @constraint(opt1, [i=1:n] , loan[i] <= z[i] .* loan_max[i])\n",
    "    \n",
    "    #objective \n",
    "    \n",
    "    @objective(opt1,Max,sum(((loan[i].*z[i]*((int_rate[i]/1200).+1).^(term[i].*12))-loan[i]).- (10*z[i].*risk[i] ) for i=1:n))\n",
    "\n",
    "                \n",
    "    \n",
    "    # Optimize\n",
    "    optimize!(opt1)\n",
    "    Objective=[objective_value(opt1)]\n",
    "    \n",
    "   \n",
    "    \n",
    "    return value.(z),Objective, value.(loan)\n",
    "    \n",
    "end "
   ]
  },
  {
   "cell_type": "code",
   "execution_count": 313,
   "id": "512c1cbe",
   "metadata": {
    "scrolled": true
   },
   "outputs": [
    {
     "name": "stdout",
     "output_type": "stream",
     "text": [
      "Academic license - for non-commercial use only - expires 2022-10-31\n"
     ]
    },
    {
     "data": {
      "text/plain": [
       "([-0.0, -0.0, -0.0, 1.0, 1.0, -0.0, -0.0, -0.0, -0.0, -0.0  …  1.0, 1.0, 1.0, 1.0, 1.0, 1.0, -0.0, 1.0, 1.0, 1.0], [9.56130522498701e7], [0.0, 0.0, 0.0, 5000.0, 3000.0, 0.0, 0.0, 0.0, 0.0, 0.0  …  5300.0, 5000.0, 3000.0, 5000.0, 5000.0, 5000.0, 0.0, 5000.0, 8500.0, 5000.0])"
      ]
     },
     "execution_count": 313,
     "metadata": {},
     "output_type": "execute_result"
    }
   ],
   "source": [
    "z,profit,loan=opt3(risk,term,loan_max,int_rate)"
   ]
  },
  {
   "cell_type": "markdown",
   "id": "4c27d75d",
   "metadata": {},
   "source": [
    "Total profit: "
   ]
  },
  {
   "cell_type": "code",
   "execution_count": 314,
   "id": "abb923e7",
   "metadata": {
    "scrolled": true
   },
   "outputs": [
    {
     "data": {
      "text/plain": [
       "1-element Array{Float64,1}:\n",
       " 9.56130522498701e7"
      ]
     },
     "execution_count": 314,
     "metadata": {},
     "output_type": "execute_result"
    }
   ],
   "source": [
    "profit #sara's invention #GOSARAAAAAA"
   ]
  },
  {
   "cell_type": "markdown",
   "id": "0b22397d",
   "metadata": {},
   "source": [
    "Amount of people we prescribed loans to:"
   ]
  },
  {
   "cell_type": "code",
   "execution_count": 316,
   "id": "16b2884f",
   "metadata": {},
   "outputs": [
    {
     "data": {
      "text/plain": [
       "13627.0"
      ]
     },
     "execution_count": 316,
     "metadata": {},
     "output_type": "execute_result"
    }
   ],
   "source": [
    "sum(z)"
   ]
  },
  {
   "cell_type": "markdown",
   "id": "00849bd6",
   "metadata": {},
   "source": [
    "Loan Amount:"
   ]
  },
  {
   "cell_type": "code",
   "execution_count": 318,
   "id": "7c598041",
   "metadata": {},
   "outputs": [
    {
     "data": {
      "text/plain": [
       "1.4999035e8"
      ]
     },
     "execution_count": 318,
     "metadata": {},
     "output_type": "execute_result"
    }
   ],
   "source": [
    "sum(loan)"
   ]
  }
 ],
 "metadata": {
  "kernelspec": {
   "display_name": "Julia (4 threads) 1.5.4",
   "language": "julia",
   "name": "julia-(4-threads)-1.5"
  },
  "language_info": {
   "file_extension": ".jl",
   "mimetype": "application/julia",
   "name": "julia",
   "version": "1.5.4"
  }
 },
 "nbformat": 4,
 "nbformat_minor": 5
}
