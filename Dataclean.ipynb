{
 "cells": [
  {
   "cell_type": "code",
   "execution_count": 29,
   "id": "eec6c6d7",
   "metadata": {},
   "outputs": [
    {
     "name": "stdout",
     "output_type": "stream",
     "text": [
      "Requirement already satisfied: missingno in /Users/saradarwish/opt/anaconda3/lib/python3.8/site-packages (0.5.0)\n",
      "Requirement already satisfied: seaborn in /Users/saradarwish/opt/anaconda3/lib/python3.8/site-packages (from missingno) (0.11.1)\n",
      "Requirement already satisfied: matplotlib in /Users/saradarwish/opt/anaconda3/lib/python3.8/site-packages (from missingno) (3.3.4)\n",
      "Requirement already satisfied: numpy in /Users/saradarwish/opt/anaconda3/lib/python3.8/site-packages (from missingno) (1.20.1)\n",
      "Requirement already satisfied: scipy in /Users/saradarwish/opt/anaconda3/lib/python3.8/site-packages (from missingno) (1.6.2)\n",
      "Requirement already satisfied: kiwisolver>=1.0.1 in /Users/saradarwish/opt/anaconda3/lib/python3.8/site-packages (from matplotlib->missingno) (1.3.1)\n",
      "Requirement already satisfied: python-dateutil>=2.1 in /Users/saradarwish/opt/anaconda3/lib/python3.8/site-packages (from matplotlib->missingno) (2.8.1)\n",
      "Requirement already satisfied: cycler>=0.10 in /Users/saradarwish/opt/anaconda3/lib/python3.8/site-packages (from matplotlib->missingno) (0.10.0)\n",
      "Requirement already satisfied: pyparsing!=2.0.4,!=2.1.2,!=2.1.6,>=2.0.3 in /Users/saradarwish/opt/anaconda3/lib/python3.8/site-packages (from matplotlib->missingno) (2.4.7)\n",
      "Requirement already satisfied: pillow>=6.2.0 in /Users/saradarwish/opt/anaconda3/lib/python3.8/site-packages (from matplotlib->missingno) (8.2.0)\n",
      "Requirement already satisfied: six in /Users/saradarwish/opt/anaconda3/lib/python3.8/site-packages (from cycler>=0.10->matplotlib->missingno) (1.15.0)\n",
      "Requirement already satisfied: pandas>=0.23 in /Users/saradarwish/opt/anaconda3/lib/python3.8/site-packages (from seaborn->missingno) (1.2.4)\n",
      "Requirement already satisfied: pytz>=2017.3 in /Users/saradarwish/opt/anaconda3/lib/python3.8/site-packages (from pandas>=0.23->seaborn->missingno) (2021.1)\n",
      "Note: you may need to restart the kernel to use updated packages.\n"
     ]
    }
   ],
   "source": [
    "pip install missingno"
   ]
  },
  {
   "cell_type": "code",
   "execution_count": 2,
   "id": "a803ea7b",
   "metadata": {},
   "outputs": [],
   "source": [
    "# import all packages \n",
    "import numpy as np\n",
    "import pandas as pd\n",
    "import matplotlib.pyplot as plt\n",
    "import seaborn as sns\n",
    "import missingno as no\n",
    "import warnings\n",
    "warnings.filterwarnings('ignore')\n",
    "pd.options.display.max_columns=1000\n",
    "pd.options.display.max_rows=1000"
   ]
  },
  {
   "cell_type": "code",
   "execution_count": 3,
   "id": "fec22e14",
   "metadata": {},
   "outputs": [],
   "source": [
    "# load in the dataset into a pandas dataframe\n",
    "df = pd.read_csv('/Users/shay/Desktop/MIT/Courses/Machine Learning/Project/loan.csv')\n"
   ]
  },
  {
   "cell_type": "code",
   "execution_count": 4,
   "id": "75dbed90",
   "metadata": {},
   "outputs": [
    {
     "name": "stdout",
     "output_type": "stream",
     "text": [
      "Number of rows   : 39717\n",
      "Number of columns: 111\n"
     ]
    }
   ],
   "source": [
    "#Shape of the Original dataset\n",
    "print('Number of rows   :',df.shape[0])\n",
    "print('Number of columns:',df.shape[1])"
   ]
  },
  {
   "cell_type": "code",
   "execution_count": 5,
   "id": "eaf977b1",
   "metadata": {},
   "outputs": [
    {
     "name": "stdout",
     "output_type": "stream",
     "text": [
      "No duplicate data found\n"
     ]
    }
   ],
   "source": [
    "if(len(df) == len(df.member_id.unique())):\n",
    "    print('No duplicate data found')\n",
    "else:\n",
    "    print('Some Duplicates are found')"
   ]
  },
  {
   "cell_type": "code",
   "execution_count": 6,
   "id": "ae3bbb87",
   "metadata": {},
   "outputs": [
    {
     "name": "stdout",
     "output_type": "stream",
     "text": [
      "Features we are left with ['id', 'member_id', 'loan_amnt', 'funded_amnt', 'funded_amnt_inv', 'term', 'int_rate', 'installment', 'grade', 'sub_grade', 'emp_title', 'emp_length', 'home_ownership', 'annual_inc', 'verification_status', 'issue_d', 'loan_status', 'pymnt_plan', 'url', 'desc', 'purpose', 'title', 'zip_code', 'addr_state', 'dti', 'earliest_cr_line', 'inq_last_6mths', 'mths_since_last_delinq', 'mths_since_last_record', 'open_acc', 'pub_rec', 'revol_util', 'total_acc', 'initial_list_status', 'out_prncp_inv', 'total_pymnt_inv', 'last_credit_pull_d', 'collections_12_mths_ex_med', 'mths_since_last_major_derog', 'policy_code', 'application_type', 'annual_inc_joint', 'dti_joint', 'verification_status_joint', 'acc_now_delinq', 'tot_coll_amt', 'tot_cur_bal', 'open_acc_6m', 'open_il_6m', 'open_il_12m', 'open_il_24m', 'mths_since_rcnt_il', 'total_bal_il', 'il_util', 'open_rv_12m', 'open_rv_24m', 'max_bal_bc', 'all_util', 'total_rev_hi_lim', 'inq_fi', 'total_cu_tl', 'inq_last_12m', 'acc_open_past_24mths', 'avg_cur_bal', 'bc_open_to_buy', 'bc_util', 'delinq_amnt', 'mo_sin_old_il_acct', 'mo_sin_old_rev_tl_op', 'mo_sin_rcnt_rev_tl_op', 'mo_sin_rcnt_tl', 'mort_acc', 'mths_since_recent_bc', 'mths_since_recent_bc_dlq', 'mths_since_recent_inq', 'mths_since_recent_revol_delinq', 'num_accts_ever_120_pd', 'num_actv_bc_tl', 'num_actv_rev_tl', 'num_bc_sats', 'num_bc_tl', 'num_il_tl', 'num_op_rev_tl', 'num_rev_accts', 'num_rev_tl_bal_gt_0', 'num_sats', 'num_tl_120dpd_2m', 'num_tl_30dpd', 'num_tl_90g_dpd_24m', 'num_tl_op_past_12m', 'pct_tl_nvr_dlq', 'percent_bc_gt_75', 'pub_rec_bankruptcies', 'tax_liens', 'tot_hi_cred_lim', 'total_bal_ex_mort', 'total_bc_limit', 'total_il_high_credit_limit']\n"
     ]
    }
   ],
   "source": [
    "# post approval features -delinq_2yrs,revol_bal,out_prncp,total_pymnt,total_rec_prncp,total_rec_int,total_rec_late_fee,\n",
    "# recoveries,collection_recovery_fee,last_pymnt_d ,last_pymnt_amnt,next_pymnt_d ,chargeoff_within_12_mths\n",
    "\n",
    "#Around 13 features are there which are Post approval so these are not useful to predict whether the loan should be given \n",
    "#to particular applicat or not\n",
    "\n",
    "\n",
    "drop_cols = [\"delinq_2yrs\", \"revol_bal\", \"out_prncp\", \"total_pymnt\", \"total_rec_prncp\", \"total_rec_int\", \"total_rec_late_fee\", \"recoveries\", \"collection_recovery_fee\", \"last_pymnt_d\", \"last_pymnt_amnt\", \"next_pymnt_d\", \"chargeoff_within_12_mths\"]\n",
    "df.drop(drop_cols, axis=1, inplace=True)\n",
    "print(\"Features we are left with\",list(df.columns))"
   ]
  },
  {
   "cell_type": "code",
   "execution_count": 7,
   "id": "f1c2f233",
   "metadata": {},
   "outputs": [
    {
     "name": "stdout",
     "output_type": "stream",
     "text": [
      "Number of rows   : 39717\n",
      "Number of columns: 98\n"
     ]
    }
   ],
   "source": [
    "print('Number of rows   :',df.shape[0])\n",
    "print('Number of columns:',df.shape[1])"
   ]
  },
  {
   "cell_type": "code",
   "execution_count": 8,
   "id": "b4b506d5",
   "metadata": {},
   "outputs": [],
   "source": [
    "# remove non-required columns\n",
    "# Not required : id,member_id ,emp_title,url,desc,title\n",
    "# out_prncp_inv - not useful as its for investors\n",
    "# total_pymnt_inv - not useful as it is for investors\n",
    "# last_credit_pull_d - irrelevant for approval\n",
    "\n",
    "## WE kept zip code and public bankruptcy \n",
    "\n",
    "\n",
    "drop_cols = [\"id\", \"member_id\", \"funded_amnt\",\"emp_title\", \"url\", \"desc\", \"title\", \"out_prncp_inv\", \"total_pymnt_inv\", \"last_credit_pull_d\"]\n",
    "df.drop(drop_cols, axis=1, inplace=True)\n",
    "#print(\"Features we have in Dataset: \",list(df.columns))"
   ]
  },
  {
   "cell_type": "code",
   "execution_count": 9,
   "id": "77a3fb9e",
   "metadata": {},
   "outputs": [
    {
     "data": {
      "text/html": [
       "<div>\n",
       "<style scoped>\n",
       "    .dataframe tbody tr th:only-of-type {\n",
       "        vertical-align: middle;\n",
       "    }\n",
       "\n",
       "    .dataframe tbody tr th {\n",
       "        vertical-align: top;\n",
       "    }\n",
       "\n",
       "    .dataframe thead th {\n",
       "        text-align: right;\n",
       "    }\n",
       "</style>\n",
       "<table border=\"1\" class=\"dataframe\">\n",
       "  <thead>\n",
       "    <tr style=\"text-align: right;\">\n",
       "      <th></th>\n",
       "      <th>Features</th>\n",
       "      <th>Null values</th>\n",
       "      <th>% Null values</th>\n",
       "    </tr>\n",
       "  </thead>\n",
       "  <tbody>\n",
       "    <tr>\n",
       "      <th>44</th>\n",
       "      <td>open_rv_12m</td>\n",
       "      <td>39717</td>\n",
       "      <td>100.000000</td>\n",
       "    </tr>\n",
       "    <tr>\n",
       "      <th>54</th>\n",
       "      <td>bc_open_to_buy</td>\n",
       "      <td>39717</td>\n",
       "      <td>100.000000</td>\n",
       "    </tr>\n",
       "    <tr>\n",
       "      <th>63</th>\n",
       "      <td>mths_since_recent_bc_dlq</td>\n",
       "      <td>39717</td>\n",
       "      <td>100.000000</td>\n",
       "    </tr>\n",
       "    <tr>\n",
       "      <th>62</th>\n",
       "      <td>mths_since_recent_bc</td>\n",
       "      <td>39717</td>\n",
       "      <td>100.000000</td>\n",
       "    </tr>\n",
       "    <tr>\n",
       "      <th>61</th>\n",
       "      <td>mort_acc</td>\n",
       "      <td>39717</td>\n",
       "      <td>100.000000</td>\n",
       "    </tr>\n",
       "    <tr>\n",
       "      <th>60</th>\n",
       "      <td>mo_sin_rcnt_tl</td>\n",
       "      <td>39717</td>\n",
       "      <td>100.000000</td>\n",
       "    </tr>\n",
       "    <tr>\n",
       "      <th>59</th>\n",
       "      <td>mo_sin_rcnt_rev_tl_op</td>\n",
       "      <td>39717</td>\n",
       "      <td>100.000000</td>\n",
       "    </tr>\n",
       "    <tr>\n",
       "      <th>58</th>\n",
       "      <td>mo_sin_old_rev_tl_op</td>\n",
       "      <td>39717</td>\n",
       "      <td>100.000000</td>\n",
       "    </tr>\n",
       "    <tr>\n",
       "      <th>57</th>\n",
       "      <td>mo_sin_old_il_acct</td>\n",
       "      <td>39717</td>\n",
       "      <td>100.000000</td>\n",
       "    </tr>\n",
       "    <tr>\n",
       "      <th>55</th>\n",
       "      <td>bc_util</td>\n",
       "      <td>39717</td>\n",
       "      <td>100.000000</td>\n",
       "    </tr>\n",
       "    <tr>\n",
       "      <th>53</th>\n",
       "      <td>avg_cur_bal</td>\n",
       "      <td>39717</td>\n",
       "      <td>100.000000</td>\n",
       "    </tr>\n",
       "    <tr>\n",
       "      <th>42</th>\n",
       "      <td>total_bal_il</td>\n",
       "      <td>39717</td>\n",
       "      <td>100.000000</td>\n",
       "    </tr>\n",
       "    <tr>\n",
       "      <th>52</th>\n",
       "      <td>acc_open_past_24mths</td>\n",
       "      <td>39717</td>\n",
       "      <td>100.000000</td>\n",
       "    </tr>\n",
       "    <tr>\n",
       "      <th>51</th>\n",
       "      <td>inq_last_12m</td>\n",
       "      <td>39717</td>\n",
       "      <td>100.000000</td>\n",
       "    </tr>\n",
       "    <tr>\n",
       "      <th>50</th>\n",
       "      <td>total_cu_tl</td>\n",
       "      <td>39717</td>\n",
       "      <td>100.000000</td>\n",
       "    </tr>\n",
       "    <tr>\n",
       "      <th>49</th>\n",
       "      <td>inq_fi</td>\n",
       "      <td>39717</td>\n",
       "      <td>100.000000</td>\n",
       "    </tr>\n",
       "    <tr>\n",
       "      <th>48</th>\n",
       "      <td>total_rev_hi_lim</td>\n",
       "      <td>39717</td>\n",
       "      <td>100.000000</td>\n",
       "    </tr>\n",
       "    <tr>\n",
       "      <th>47</th>\n",
       "      <td>all_util</td>\n",
       "      <td>39717</td>\n",
       "      <td>100.000000</td>\n",
       "    </tr>\n",
       "    <tr>\n",
       "      <th>46</th>\n",
       "      <td>max_bal_bc</td>\n",
       "      <td>39717</td>\n",
       "      <td>100.000000</td>\n",
       "    </tr>\n",
       "    <tr>\n",
       "      <th>45</th>\n",
       "      <td>open_rv_24m</td>\n",
       "      <td>39717</td>\n",
       "      <td>100.000000</td>\n",
       "    </tr>\n",
       "    <tr>\n",
       "      <th>64</th>\n",
       "      <td>mths_since_recent_inq</td>\n",
       "      <td>39717</td>\n",
       "      <td>100.000000</td>\n",
       "    </tr>\n",
       "    <tr>\n",
       "      <th>65</th>\n",
       "      <td>mths_since_recent_revol_delinq</td>\n",
       "      <td>39717</td>\n",
       "      <td>100.000000</td>\n",
       "    </tr>\n",
       "    <tr>\n",
       "      <th>66</th>\n",
       "      <td>num_accts_ever_120_pd</td>\n",
       "      <td>39717</td>\n",
       "      <td>100.000000</td>\n",
       "    </tr>\n",
       "    <tr>\n",
       "      <th>67</th>\n",
       "      <td>num_actv_bc_tl</td>\n",
       "      <td>39717</td>\n",
       "      <td>100.000000</td>\n",
       "    </tr>\n",
       "    <tr>\n",
       "      <th>86</th>\n",
       "      <td>total_bc_limit</td>\n",
       "      <td>39717</td>\n",
       "      <td>100.000000</td>\n",
       "    </tr>\n",
       "    <tr>\n",
       "      <th>85</th>\n",
       "      <td>total_bal_ex_mort</td>\n",
       "      <td>39717</td>\n",
       "      <td>100.000000</td>\n",
       "    </tr>\n",
       "    <tr>\n",
       "      <th>84</th>\n",
       "      <td>tot_hi_cred_lim</td>\n",
       "      <td>39717</td>\n",
       "      <td>100.000000</td>\n",
       "    </tr>\n",
       "    <tr>\n",
       "      <th>81</th>\n",
       "      <td>percent_bc_gt_75</td>\n",
       "      <td>39717</td>\n",
       "      <td>100.000000</td>\n",
       "    </tr>\n",
       "    <tr>\n",
       "      <th>80</th>\n",
       "      <td>pct_tl_nvr_dlq</td>\n",
       "      <td>39717</td>\n",
       "      <td>100.000000</td>\n",
       "    </tr>\n",
       "    <tr>\n",
       "      <th>79</th>\n",
       "      <td>num_tl_op_past_12m</td>\n",
       "      <td>39717</td>\n",
       "      <td>100.000000</td>\n",
       "    </tr>\n",
       "    <tr>\n",
       "      <th>78</th>\n",
       "      <td>num_tl_90g_dpd_24m</td>\n",
       "      <td>39717</td>\n",
       "      <td>100.000000</td>\n",
       "    </tr>\n",
       "    <tr>\n",
       "      <th>77</th>\n",
       "      <td>num_tl_30dpd</td>\n",
       "      <td>39717</td>\n",
       "      <td>100.000000</td>\n",
       "    </tr>\n",
       "    <tr>\n",
       "      <th>76</th>\n",
       "      <td>num_tl_120dpd_2m</td>\n",
       "      <td>39717</td>\n",
       "      <td>100.000000</td>\n",
       "    </tr>\n",
       "    <tr>\n",
       "      <th>75</th>\n",
       "      <td>num_sats</td>\n",
       "      <td>39717</td>\n",
       "      <td>100.000000</td>\n",
       "    </tr>\n",
       "    <tr>\n",
       "      <th>74</th>\n",
       "      <td>num_rev_tl_bal_gt_0</td>\n",
       "      <td>39717</td>\n",
       "      <td>100.000000</td>\n",
       "    </tr>\n",
       "    <tr>\n",
       "      <th>73</th>\n",
       "      <td>num_rev_accts</td>\n",
       "      <td>39717</td>\n",
       "      <td>100.000000</td>\n",
       "    </tr>\n",
       "    <tr>\n",
       "      <th>72</th>\n",
       "      <td>num_op_rev_tl</td>\n",
       "      <td>39717</td>\n",
       "      <td>100.000000</td>\n",
       "    </tr>\n",
       "    <tr>\n",
       "      <th>71</th>\n",
       "      <td>num_il_tl</td>\n",
       "      <td>39717</td>\n",
       "      <td>100.000000</td>\n",
       "    </tr>\n",
       "    <tr>\n",
       "      <th>70</th>\n",
       "      <td>num_bc_tl</td>\n",
       "      <td>39717</td>\n",
       "      <td>100.000000</td>\n",
       "    </tr>\n",
       "    <tr>\n",
       "      <th>69</th>\n",
       "      <td>num_bc_sats</td>\n",
       "      <td>39717</td>\n",
       "      <td>100.000000</td>\n",
       "    </tr>\n",
       "    <tr>\n",
       "      <th>68</th>\n",
       "      <td>num_actv_rev_tl</td>\n",
       "      <td>39717</td>\n",
       "      <td>100.000000</td>\n",
       "    </tr>\n",
       "    <tr>\n",
       "      <th>43</th>\n",
       "      <td>il_util</td>\n",
       "      <td>39717</td>\n",
       "      <td>100.000000</td>\n",
       "    </tr>\n",
       "    <tr>\n",
       "      <th>87</th>\n",
       "      <td>total_il_high_credit_limit</td>\n",
       "      <td>39717</td>\n",
       "      <td>100.000000</td>\n",
       "    </tr>\n",
       "    <tr>\n",
       "      <th>41</th>\n",
       "      <td>mths_since_rcnt_il</td>\n",
       "      <td>39717</td>\n",
       "      <td>100.000000</td>\n",
       "    </tr>\n",
       "    <tr>\n",
       "      <th>31</th>\n",
       "      <td>annual_inc_joint</td>\n",
       "      <td>39717</td>\n",
       "      <td>100.000000</td>\n",
       "    </tr>\n",
       "    <tr>\n",
       "      <th>40</th>\n",
       "      <td>open_il_24m</td>\n",
       "      <td>39717</td>\n",
       "      <td>100.000000</td>\n",
       "    </tr>\n",
       "    <tr>\n",
       "      <th>39</th>\n",
       "      <td>open_il_12m</td>\n",
       "      <td>39717</td>\n",
       "      <td>100.000000</td>\n",
       "    </tr>\n",
       "    <tr>\n",
       "      <th>38</th>\n",
       "      <td>open_il_6m</td>\n",
       "      <td>39717</td>\n",
       "      <td>100.000000</td>\n",
       "    </tr>\n",
       "    <tr>\n",
       "      <th>37</th>\n",
       "      <td>open_acc_6m</td>\n",
       "      <td>39717</td>\n",
       "      <td>100.000000</td>\n",
       "    </tr>\n",
       "    <tr>\n",
       "      <th>36</th>\n",
       "      <td>tot_cur_bal</td>\n",
       "      <td>39717</td>\n",
       "      <td>100.000000</td>\n",
       "    </tr>\n",
       "    <tr>\n",
       "      <th>35</th>\n",
       "      <td>tot_coll_amt</td>\n",
       "      <td>39717</td>\n",
       "      <td>100.000000</td>\n",
       "    </tr>\n",
       "    <tr>\n",
       "      <th>28</th>\n",
       "      <td>mths_since_last_major_derog</td>\n",
       "      <td>39717</td>\n",
       "      <td>100.000000</td>\n",
       "    </tr>\n",
       "    <tr>\n",
       "      <th>33</th>\n",
       "      <td>verification_status_joint</td>\n",
       "      <td>39717</td>\n",
       "      <td>100.000000</td>\n",
       "    </tr>\n",
       "    <tr>\n",
       "      <th>32</th>\n",
       "      <td>dti_joint</td>\n",
       "      <td>39717</td>\n",
       "      <td>100.000000</td>\n",
       "    </tr>\n",
       "    <tr>\n",
       "      <th>21</th>\n",
       "      <td>mths_since_last_record</td>\n",
       "      <td>36931</td>\n",
       "      <td>92.985372</td>\n",
       "    </tr>\n",
       "    <tr>\n",
       "      <th>20</th>\n",
       "      <td>mths_since_last_delinq</td>\n",
       "      <td>25682</td>\n",
       "      <td>64.662487</td>\n",
       "    </tr>\n",
       "    <tr>\n",
       "      <th>7</th>\n",
       "      <td>emp_length</td>\n",
       "      <td>1075</td>\n",
       "      <td>2.706650</td>\n",
       "    </tr>\n",
       "    <tr>\n",
       "      <th>82</th>\n",
       "      <td>pub_rec_bankruptcies</td>\n",
       "      <td>697</td>\n",
       "      <td>1.754916</td>\n",
       "    </tr>\n",
       "    <tr>\n",
       "      <th>27</th>\n",
       "      <td>collections_12_mths_ex_med</td>\n",
       "      <td>56</td>\n",
       "      <td>0.140998</td>\n",
       "    </tr>\n",
       "    <tr>\n",
       "      <th>24</th>\n",
       "      <td>revol_util</td>\n",
       "      <td>50</td>\n",
       "      <td>0.125891</td>\n",
       "    </tr>\n",
       "    <tr>\n",
       "      <th>83</th>\n",
       "      <td>tax_liens</td>\n",
       "      <td>39</td>\n",
       "      <td>0.098195</td>\n",
       "    </tr>\n",
       "    <tr>\n",
       "      <th>30</th>\n",
       "      <td>application_type</td>\n",
       "      <td>0</td>\n",
       "      <td>0.000000</td>\n",
       "    </tr>\n",
       "    <tr>\n",
       "      <th>11</th>\n",
       "      <td>issue_d</td>\n",
       "      <td>0</td>\n",
       "      <td>0.000000</td>\n",
       "    </tr>\n",
       "    <tr>\n",
       "      <th>10</th>\n",
       "      <td>verification_status</td>\n",
       "      <td>0</td>\n",
       "      <td>0.000000</td>\n",
       "    </tr>\n",
       "    <tr>\n",
       "      <th>9</th>\n",
       "      <td>annual_inc</td>\n",
       "      <td>0</td>\n",
       "      <td>0.000000</td>\n",
       "    </tr>\n",
       "    <tr>\n",
       "      <th>8</th>\n",
       "      <td>home_ownership</td>\n",
       "      <td>0</td>\n",
       "      <td>0.000000</td>\n",
       "    </tr>\n",
       "    <tr>\n",
       "      <th>5</th>\n",
       "      <td>grade</td>\n",
       "      <td>0</td>\n",
       "      <td>0.000000</td>\n",
       "    </tr>\n",
       "    <tr>\n",
       "      <th>6</th>\n",
       "      <td>sub_grade</td>\n",
       "      <td>0</td>\n",
       "      <td>0.000000</td>\n",
       "    </tr>\n",
       "    <tr>\n",
       "      <th>13</th>\n",
       "      <td>pymnt_plan</td>\n",
       "      <td>0</td>\n",
       "      <td>0.000000</td>\n",
       "    </tr>\n",
       "    <tr>\n",
       "      <th>4</th>\n",
       "      <td>installment</td>\n",
       "      <td>0</td>\n",
       "      <td>0.000000</td>\n",
       "    </tr>\n",
       "    <tr>\n",
       "      <th>3</th>\n",
       "      <td>int_rate</td>\n",
       "      <td>0</td>\n",
       "      <td>0.000000</td>\n",
       "    </tr>\n",
       "    <tr>\n",
       "      <th>2</th>\n",
       "      <td>term</td>\n",
       "      <td>0</td>\n",
       "      <td>0.000000</td>\n",
       "    </tr>\n",
       "    <tr>\n",
       "      <th>12</th>\n",
       "      <td>loan_status</td>\n",
       "      <td>0</td>\n",
       "      <td>0.000000</td>\n",
       "    </tr>\n",
       "    <tr>\n",
       "      <th>15</th>\n",
       "      <td>zip_code</td>\n",
       "      <td>0</td>\n",
       "      <td>0.000000</td>\n",
       "    </tr>\n",
       "    <tr>\n",
       "      <th>14</th>\n",
       "      <td>purpose</td>\n",
       "      <td>0</td>\n",
       "      <td>0.000000</td>\n",
       "    </tr>\n",
       "    <tr>\n",
       "      <th>56</th>\n",
       "      <td>delinq_amnt</td>\n",
       "      <td>0</td>\n",
       "      <td>0.000000</td>\n",
       "    </tr>\n",
       "    <tr>\n",
       "      <th>16</th>\n",
       "      <td>addr_state</td>\n",
       "      <td>0</td>\n",
       "      <td>0.000000</td>\n",
       "    </tr>\n",
       "    <tr>\n",
       "      <th>17</th>\n",
       "      <td>dti</td>\n",
       "      <td>0</td>\n",
       "      <td>0.000000</td>\n",
       "    </tr>\n",
       "    <tr>\n",
       "      <th>18</th>\n",
       "      <td>earliest_cr_line</td>\n",
       "      <td>0</td>\n",
       "      <td>0.000000</td>\n",
       "    </tr>\n",
       "    <tr>\n",
       "      <th>19</th>\n",
       "      <td>inq_last_6mths</td>\n",
       "      <td>0</td>\n",
       "      <td>0.000000</td>\n",
       "    </tr>\n",
       "    <tr>\n",
       "      <th>1</th>\n",
       "      <td>funded_amnt_inv</td>\n",
       "      <td>0</td>\n",
       "      <td>0.000000</td>\n",
       "    </tr>\n",
       "    <tr>\n",
       "      <th>22</th>\n",
       "      <td>open_acc</td>\n",
       "      <td>0</td>\n",
       "      <td>0.000000</td>\n",
       "    </tr>\n",
       "    <tr>\n",
       "      <th>23</th>\n",
       "      <td>pub_rec</td>\n",
       "      <td>0</td>\n",
       "      <td>0.000000</td>\n",
       "    </tr>\n",
       "    <tr>\n",
       "      <th>25</th>\n",
       "      <td>total_acc</td>\n",
       "      <td>0</td>\n",
       "      <td>0.000000</td>\n",
       "    </tr>\n",
       "    <tr>\n",
       "      <th>26</th>\n",
       "      <td>initial_list_status</td>\n",
       "      <td>0</td>\n",
       "      <td>0.000000</td>\n",
       "    </tr>\n",
       "    <tr>\n",
       "      <th>34</th>\n",
       "      <td>acc_now_delinq</td>\n",
       "      <td>0</td>\n",
       "      <td>0.000000</td>\n",
       "    </tr>\n",
       "    <tr>\n",
       "      <th>29</th>\n",
       "      <td>policy_code</td>\n",
       "      <td>0</td>\n",
       "      <td>0.000000</td>\n",
       "    </tr>\n",
       "    <tr>\n",
       "      <th>0</th>\n",
       "      <td>loan_amnt</td>\n",
       "      <td>0</td>\n",
       "      <td>0.000000</td>\n",
       "    </tr>\n",
       "  </tbody>\n",
       "</table>\n",
       "</div>"
      ],
      "text/plain": [
       "                          Features  Null values  % Null values\n",
       "44                     open_rv_12m        39717     100.000000\n",
       "54                  bc_open_to_buy        39717     100.000000\n",
       "63        mths_since_recent_bc_dlq        39717     100.000000\n",
       "62            mths_since_recent_bc        39717     100.000000\n",
       "61                        mort_acc        39717     100.000000\n",
       "60                  mo_sin_rcnt_tl        39717     100.000000\n",
       "59           mo_sin_rcnt_rev_tl_op        39717     100.000000\n",
       "58            mo_sin_old_rev_tl_op        39717     100.000000\n",
       "57              mo_sin_old_il_acct        39717     100.000000\n",
       "55                         bc_util        39717     100.000000\n",
       "53                     avg_cur_bal        39717     100.000000\n",
       "42                    total_bal_il        39717     100.000000\n",
       "52            acc_open_past_24mths        39717     100.000000\n",
       "51                    inq_last_12m        39717     100.000000\n",
       "50                     total_cu_tl        39717     100.000000\n",
       "49                          inq_fi        39717     100.000000\n",
       "48                total_rev_hi_lim        39717     100.000000\n",
       "47                        all_util        39717     100.000000\n",
       "46                      max_bal_bc        39717     100.000000\n",
       "45                     open_rv_24m        39717     100.000000\n",
       "64           mths_since_recent_inq        39717     100.000000\n",
       "65  mths_since_recent_revol_delinq        39717     100.000000\n",
       "66           num_accts_ever_120_pd        39717     100.000000\n",
       "67                  num_actv_bc_tl        39717     100.000000\n",
       "86                  total_bc_limit        39717     100.000000\n",
       "85               total_bal_ex_mort        39717     100.000000\n",
       "84                 tot_hi_cred_lim        39717     100.000000\n",
       "81                percent_bc_gt_75        39717     100.000000\n",
       "80                  pct_tl_nvr_dlq        39717     100.000000\n",
       "79              num_tl_op_past_12m        39717     100.000000\n",
       "78              num_tl_90g_dpd_24m        39717     100.000000\n",
       "77                    num_tl_30dpd        39717     100.000000\n",
       "76                num_tl_120dpd_2m        39717     100.000000\n",
       "75                        num_sats        39717     100.000000\n",
       "74             num_rev_tl_bal_gt_0        39717     100.000000\n",
       "73                   num_rev_accts        39717     100.000000\n",
       "72                   num_op_rev_tl        39717     100.000000\n",
       "71                       num_il_tl        39717     100.000000\n",
       "70                       num_bc_tl        39717     100.000000\n",
       "69                     num_bc_sats        39717     100.000000\n",
       "68                 num_actv_rev_tl        39717     100.000000\n",
       "43                         il_util        39717     100.000000\n",
       "87      total_il_high_credit_limit        39717     100.000000\n",
       "41              mths_since_rcnt_il        39717     100.000000\n",
       "31                annual_inc_joint        39717     100.000000\n",
       "40                     open_il_24m        39717     100.000000\n",
       "39                     open_il_12m        39717     100.000000\n",
       "38                      open_il_6m        39717     100.000000\n",
       "37                     open_acc_6m        39717     100.000000\n",
       "36                     tot_cur_bal        39717     100.000000\n",
       "35                    tot_coll_amt        39717     100.000000\n",
       "28     mths_since_last_major_derog        39717     100.000000\n",
       "33       verification_status_joint        39717     100.000000\n",
       "32                       dti_joint        39717     100.000000\n",
       "21          mths_since_last_record        36931      92.985372\n",
       "20          mths_since_last_delinq        25682      64.662487\n",
       "7                       emp_length         1075       2.706650\n",
       "82            pub_rec_bankruptcies          697       1.754916\n",
       "27      collections_12_mths_ex_med           56       0.140998\n",
       "24                      revol_util           50       0.125891\n",
       "83                       tax_liens           39       0.098195\n",
       "30                application_type            0       0.000000\n",
       "11                         issue_d            0       0.000000\n",
       "10             verification_status            0       0.000000\n",
       "9                       annual_inc            0       0.000000\n",
       "8                   home_ownership            0       0.000000\n",
       "5                            grade            0       0.000000\n",
       "6                        sub_grade            0       0.000000\n",
       "13                      pymnt_plan            0       0.000000\n",
       "4                      installment            0       0.000000\n",
       "3                         int_rate            0       0.000000\n",
       "2                             term            0       0.000000\n",
       "12                     loan_status            0       0.000000\n",
       "15                        zip_code            0       0.000000\n",
       "14                         purpose            0       0.000000\n",
       "56                     delinq_amnt            0       0.000000\n",
       "16                      addr_state            0       0.000000\n",
       "17                             dti            0       0.000000\n",
       "18                earliest_cr_line            0       0.000000\n",
       "19                  inq_last_6mths            0       0.000000\n",
       "1                  funded_amnt_inv            0       0.000000\n",
       "22                        open_acc            0       0.000000\n",
       "23                         pub_rec            0       0.000000\n",
       "25                       total_acc            0       0.000000\n",
       "26             initial_list_status            0       0.000000\n",
       "34                  acc_now_delinq            0       0.000000\n",
       "29                     policy_code            0       0.000000\n",
       "0                        loan_amnt            0       0.000000"
      ]
     },
     "execution_count": 9,
     "metadata": {},
     "output_type": "execute_result"
    }
   ],
   "source": [
    "#Missing value analysis\n",
    "null_df=pd.DataFrame()\n",
    "null_df['Features']=df.isnull().sum().index\n",
    "null_df['Null values']=df.isnull().sum().values\n",
    "null_df['% Null values']=(df.isnull().sum().values / df.shape[0])*100\n",
    "null_df.sort_values(by='% Null values',ascending=False)"
   ]
  },
  {
   "cell_type": "code",
   "execution_count": 10,
   "id": "88f3a02f",
   "metadata": {},
   "outputs": [
    {
     "data": {
      "text/plain": [
       "<AxesSubplot:>"
      ]
     },
     "execution_count": 10,
     "metadata": {},
     "output_type": "execute_result"
    },
    {
     "data": {
      "image/png": "[encoded data removed]",
      "text/plain": [
       "<Figure size 1800x2268 with 3 Axes>"
      ]
     },
     "metadata": {
      "needs_background": "light"
     },
     "output_type": "display_data"
    }
   ],
   "source": [
    "import missingno as no\n",
    "no.bar(df)"
   ]
  },
  {
   "cell_type": "code",
   "execution_count": 11,
   "id": "a71a8673",
   "metadata": {},
   "outputs": [],
   "source": [
    "# We will drop the columns which are having more than 50% NULL Values\n",
    "null_columns=null_df[null_df['% Null values']>=50]['Features']\n",
    "df.drop(columns=null_columns,inplace=True)\n",
    "#df.columns                 ##Columns present in the dataset\n",
    "#np.array(null_columns)     ##Columns that are removed"
   ]
  },
  {
   "cell_type": "code",
   "execution_count": 12,
   "id": "7fda7386",
   "metadata": {},
   "outputs": [
    {
     "data": {
      "text/plain": [
       "Index(['loan_amnt', 'funded_amnt_inv', 'term', 'int_rate', 'installment',\n",
       "       'grade', 'sub_grade', 'emp_length', 'home_ownership', 'annual_inc',\n",
       "       'verification_status', 'issue_d', 'loan_status', 'pymnt_plan',\n",
       "       'purpose', 'zip_code', 'addr_state', 'dti', 'earliest_cr_line',\n",
       "       'inq_last_6mths', 'open_acc', 'pub_rec', 'revol_util', 'total_acc',\n",
       "       'initial_list_status', 'collections_12_mths_ex_med', 'policy_code',\n",
       "       'application_type', 'acc_now_delinq', 'delinq_amnt',\n",
       "       'pub_rec_bankruptcies', 'tax_liens'],\n",
       "      dtype='object')"
      ]
     },
     "execution_count": 12,
     "metadata": {},
     "output_type": "execute_result"
    }
   ],
   "source": [
    "df.columns                 ##Columns present in the dataset\n"
   ]
  },
  {
   "cell_type": "code",
   "execution_count": 13,
   "id": "38a85066",
   "metadata": {},
   "outputs": [
    {
     "data": {
      "text/plain": [
       "array(['mths_since_last_delinq', 'mths_since_last_record',\n",
       "       'mths_since_last_major_derog', 'annual_inc_joint', 'dti_joint',\n",
       "       'verification_status_joint', 'tot_coll_amt', 'tot_cur_bal',\n",
       "       'open_acc_6m', 'open_il_6m', 'open_il_12m', 'open_il_24m',\n",
       "       'mths_since_rcnt_il', 'total_bal_il', 'il_util', 'open_rv_12m',\n",
       "       'open_rv_24m', 'max_bal_bc', 'all_util', 'total_rev_hi_lim',\n",
       "       'inq_fi', 'total_cu_tl', 'inq_last_12m', 'acc_open_past_24mths',\n",
       "       'avg_cur_bal', 'bc_open_to_buy', 'bc_util', 'mo_sin_old_il_acct',\n",
       "       'mo_sin_old_rev_tl_op', 'mo_sin_rcnt_rev_tl_op', 'mo_sin_rcnt_tl',\n",
       "       'mort_acc', 'mths_since_recent_bc', 'mths_since_recent_bc_dlq',\n",
       "       'mths_since_recent_inq', 'mths_since_recent_revol_delinq',\n",
       "       'num_accts_ever_120_pd', 'num_actv_bc_tl', 'num_actv_rev_tl',\n",
       "       'num_bc_sats', 'num_bc_tl', 'num_il_tl', 'num_op_rev_tl',\n",
       "       'num_rev_accts', 'num_rev_tl_bal_gt_0', 'num_sats',\n",
       "       'num_tl_120dpd_2m', 'num_tl_30dpd', 'num_tl_90g_dpd_24m',\n",
       "       'num_tl_op_past_12m', 'pct_tl_nvr_dlq', 'percent_bc_gt_75',\n",
       "       'tot_hi_cred_lim', 'total_bal_ex_mort', 'total_bc_limit',\n",
       "       'total_il_high_credit_limit'], dtype=object)"
      ]
     },
     "execution_count": 13,
     "metadata": {},
     "output_type": "execute_result"
    }
   ],
   "source": [
    "np.array(null_columns)     ##Columns that are removed"
   ]
  },
  {
   "cell_type": "code",
   "execution_count": 14,
   "id": "562bc3a5",
   "metadata": {},
   "outputs": [],
   "source": [
    "# Dropping the rows which are having less than 5% of null values in that column\n",
    "null_df_5=null_df[null_df['% Null values']<5]['Features']\n",
    "df.dropna(subset=null_df_5 ,axis=0, inplace=True)"
   ]
  },
  {
   "cell_type": "code",
   "execution_count": 15,
   "id": "2ec63e58",
   "metadata": {},
   "outputs": [
    {
     "data": {
      "text/plain": [
       "array([], dtype=object)"
      ]
     },
     "execution_count": 15,
     "metadata": {},
     "output_type": "execute_result"
    }
   ],
   "source": [
    "#Imputation is done for the columns having more than 5% & less than 50% null values\n",
    "cols_null=np.array(null_df[(null_df['% Null values']>5) & (null_df['% Null values']<50)]['Features'])\n",
    "cols_null\n",
    "\n",
    "#No column exists which is having null values between 5 to 50% "
   ]
  },
  {
   "cell_type": "code",
   "execution_count": 16,
   "id": "427f6d6e",
   "metadata": {},
   "outputs": [
    {
     "name": "stdout",
     "output_type": "stream",
     "text": [
      "Number of rows   : 37896\n",
      "Number of columns: 32\n"
     ]
    }
   ],
   "source": [
    "#Shape after removing the 100% null valued columns\n",
    "print('Number of rows   :',df.shape[0])\n",
    "print('Number of columns:',df.shape[1])"
   ]
  },
  {
   "cell_type": "code",
   "execution_count": 17,
   "id": "35f7a8c6",
   "metadata": {},
   "outputs": [
    {
     "data": {
      "text/html": [
       "<div>\n",
       "<style scoped>\n",
       "    .dataframe tbody tr th:only-of-type {\n",
       "        vertical-align: middle;\n",
       "    }\n",
       "\n",
       "    .dataframe tbody tr th {\n",
       "        vertical-align: top;\n",
       "    }\n",
       "\n",
       "    .dataframe thead th {\n",
       "        text-align: right;\n",
       "    }\n",
       "</style>\n",
       "<table border=\"1\" class=\"dataframe\">\n",
       "  <thead>\n",
       "    <tr style=\"text-align: right;\">\n",
       "      <th></th>\n",
       "      <th>Features</th>\n",
       "      <th>Unique_Values</th>\n",
       "    </tr>\n",
       "  </thead>\n",
       "  <tbody>\n",
       "    <tr>\n",
       "      <th>31</th>\n",
       "      <td>tax_liens</td>\n",
       "      <td>1</td>\n",
       "    </tr>\n",
       "    <tr>\n",
       "      <th>25</th>\n",
       "      <td>collections_12_mths_ex_med</td>\n",
       "      <td>1</td>\n",
       "    </tr>\n",
       "    <tr>\n",
       "      <th>26</th>\n",
       "      <td>policy_code</td>\n",
       "      <td>1</td>\n",
       "    </tr>\n",
       "    <tr>\n",
       "      <th>13</th>\n",
       "      <td>pymnt_plan</td>\n",
       "      <td>1</td>\n",
       "    </tr>\n",
       "    <tr>\n",
       "      <th>27</th>\n",
       "      <td>application_type</td>\n",
       "      <td>1</td>\n",
       "    </tr>\n",
       "    <tr>\n",
       "      <th>24</th>\n",
       "      <td>initial_list_status</td>\n",
       "      <td>1</td>\n",
       "    </tr>\n",
       "    <tr>\n",
       "      <th>29</th>\n",
       "      <td>delinq_amnt</td>\n",
       "      <td>1</td>\n",
       "    </tr>\n",
       "    <tr>\n",
       "      <th>28</th>\n",
       "      <td>acc_now_delinq</td>\n",
       "      <td>1</td>\n",
       "    </tr>\n",
       "    <tr>\n",
       "      <th>2</th>\n",
       "      <td>term</td>\n",
       "      <td>2</td>\n",
       "    </tr>\n",
       "    <tr>\n",
       "      <th>30</th>\n",
       "      <td>pub_rec_bankruptcies</td>\n",
       "      <td>3</td>\n",
       "    </tr>\n",
       "    <tr>\n",
       "      <th>12</th>\n",
       "      <td>loan_status</td>\n",
       "      <td>3</td>\n",
       "    </tr>\n",
       "    <tr>\n",
       "      <th>10</th>\n",
       "      <td>verification_status</td>\n",
       "      <td>3</td>\n",
       "    </tr>\n",
       "    <tr>\n",
       "      <th>8</th>\n",
       "      <td>home_ownership</td>\n",
       "      <td>4</td>\n",
       "    </tr>\n",
       "    <tr>\n",
       "      <th>21</th>\n",
       "      <td>pub_rec</td>\n",
       "      <td>5</td>\n",
       "    </tr>\n",
       "    <tr>\n",
       "      <th>5</th>\n",
       "      <td>grade</td>\n",
       "      <td>7</td>\n",
       "    </tr>\n",
       "    <tr>\n",
       "      <th>19</th>\n",
       "      <td>inq_last_6mths</td>\n",
       "      <td>9</td>\n",
       "    </tr>\n",
       "    <tr>\n",
       "      <th>7</th>\n",
       "      <td>emp_length</td>\n",
       "      <td>11</td>\n",
       "    </tr>\n",
       "    <tr>\n",
       "      <th>14</th>\n",
       "      <td>purpose</td>\n",
       "      <td>14</td>\n",
       "    </tr>\n",
       "    <tr>\n",
       "      <th>6</th>\n",
       "      <td>sub_grade</td>\n",
       "      <td>35</td>\n",
       "    </tr>\n",
       "    <tr>\n",
       "      <th>20</th>\n",
       "      <td>open_acc</td>\n",
       "      <td>38</td>\n",
       "    </tr>\n",
       "    <tr>\n",
       "      <th>16</th>\n",
       "      <td>addr_state</td>\n",
       "      <td>48</td>\n",
       "    </tr>\n",
       "    <tr>\n",
       "      <th>11</th>\n",
       "      <td>issue_d</td>\n",
       "      <td>51</td>\n",
       "    </tr>\n",
       "    <tr>\n",
       "      <th>23</th>\n",
       "      <td>total_acc</td>\n",
       "      <td>81</td>\n",
       "    </tr>\n",
       "    <tr>\n",
       "      <th>3</th>\n",
       "      <td>int_rate</td>\n",
       "      <td>336</td>\n",
       "    </tr>\n",
       "    <tr>\n",
       "      <th>18</th>\n",
       "      <td>earliest_cr_line</td>\n",
       "      <td>514</td>\n",
       "    </tr>\n",
       "    <tr>\n",
       "      <th>15</th>\n",
       "      <td>zip_code</td>\n",
       "      <td>808</td>\n",
       "    </tr>\n",
       "    <tr>\n",
       "      <th>0</th>\n",
       "      <td>loan_amnt</td>\n",
       "      <td>869</td>\n",
       "    </tr>\n",
       "    <tr>\n",
       "      <th>22</th>\n",
       "      <td>revol_util</td>\n",
       "      <td>1087</td>\n",
       "    </tr>\n",
       "    <tr>\n",
       "      <th>17</th>\n",
       "      <td>dti</td>\n",
       "      <td>2863</td>\n",
       "    </tr>\n",
       "    <tr>\n",
       "      <th>9</th>\n",
       "      <td>annual_inc</td>\n",
       "      <td>5031</td>\n",
       "    </tr>\n",
       "    <tr>\n",
       "      <th>1</th>\n",
       "      <td>funded_amnt_inv</td>\n",
       "      <td>7746</td>\n",
       "    </tr>\n",
       "    <tr>\n",
       "      <th>4</th>\n",
       "      <td>installment</td>\n",
       "      <td>14734</td>\n",
       "    </tr>\n",
       "  </tbody>\n",
       "</table>\n",
       "</div>"
      ],
      "text/plain": [
       "                      Features  Unique_Values\n",
       "31                   tax_liens              1\n",
       "25  collections_12_mths_ex_med              1\n",
       "26                 policy_code              1\n",
       "13                  pymnt_plan              1\n",
       "27            application_type              1\n",
       "24         initial_list_status              1\n",
       "29                 delinq_amnt              1\n",
       "28              acc_now_delinq              1\n",
       "2                         term              2\n",
       "30        pub_rec_bankruptcies              3\n",
       "12                 loan_status              3\n",
       "10         verification_status              3\n",
       "8               home_ownership              4\n",
       "21                     pub_rec              5\n",
       "5                        grade              7\n",
       "19              inq_last_6mths              9\n",
       "7                   emp_length             11\n",
       "14                     purpose             14\n",
       "6                    sub_grade             35\n",
       "20                    open_acc             38\n",
       "16                  addr_state             48\n",
       "11                     issue_d             51\n",
       "23                   total_acc             81\n",
       "3                     int_rate            336\n",
       "18            earliest_cr_line            514\n",
       "15                    zip_code            808\n",
       "0                    loan_amnt            869\n",
       "22                  revol_util           1087\n",
       "17                         dti           2863\n",
       "9                   annual_inc           5031\n",
       "1              funded_amnt_inv           7746\n",
       "4                  installment          14734"
      ]
     },
     "execution_count": 17,
     "metadata": {},
     "output_type": "execute_result"
    }
   ],
   "source": [
    "#Checking number of unique values in each column. We should remove the columns that has single value. \n",
    "#Those columns will not give us meaningful information\n",
    "unique_val=pd.DataFrame()\n",
    "unique_val['Features']=df.nunique().index\n",
    "unique_val['Unique_Values']=df.nunique().values\n",
    "unique_val.sort_values(by='Unique_Values')"
   ]
  },
  {
   "cell_type": "code",
   "execution_count": 18,
   "id": "2c317898",
   "metadata": {},
   "outputs": [],
   "source": [
    "#Columns that has single value are removed\n",
    "df.drop(columns=unique_val[unique_val.Unique_Values==1]['Features'],inplace=True)"
   ]
  },
  {
   "cell_type": "code",
   "execution_count": 19,
   "id": "e068e2be",
   "metadata": {},
   "outputs": [
    {
     "name": "stdout",
     "output_type": "stream",
     "text": [
      "Number of rows   : 37896\n",
      "Number of columns: 24\n"
     ]
    }
   ],
   "source": [
    "#Shape after removing all the unwanted columns\n",
    "print('Number of rows   :',df.shape[0])\n",
    "print('Number of columns:',df.shape[1])\n",
    "\n"
   ]
  },
  {
   "cell_type": "code",
   "execution_count": 20,
   "id": "01325965",
   "metadata": {},
   "outputs": [],
   "source": [
    "#Columns left in the dataset\n",
    "#df.columns\n",
    "\n",
    "df=df.reset_index(drop=True)        #Index are reset"
   ]
  },
  {
   "cell_type": "code",
   "execution_count": 21,
   "id": "624b4bc5",
   "metadata": {},
   "outputs": [
    {
     "data": {
      "text/plain": [
       "Fully Paid     31533\n",
       "Charged Off     5265\n",
       "Current         1098\n",
       "Name: loan_status, dtype: int64"
      ]
     },
     "execution_count": 21,
     "metadata": {},
     "output_type": "execute_result"
    }
   ],
   "source": [
    "#Target variable\n",
    "df['loan_status'].value_counts()"
   ]
  },
  {
   "cell_type": "code",
   "execution_count": 22,
   "id": "63869ba5",
   "metadata": {},
   "outputs": [
    {
     "data": {
      "text/plain": [
       "Fully Paid     31533\n",
       "Charged Off     5265\n",
       "Name: loan_status, dtype: int64"
      ]
     },
     "execution_count": 22,
     "metadata": {},
     "output_type": "execute_result"
    }
   ],
   "source": [
    "#Removed those records which are having loan_status as 'Current' and it is irrelevant\n",
    "df=df[df['loan_status']!='Current']\n",
    "\n",
    "#Checked for values count\n",
    "df['loan_status'].value_counts()"
   ]
  },
  {
   "cell_type": "code",
   "execution_count": 23,
   "id": "f6739f47",
   "metadata": {},
   "outputs": [],
   "source": [
    "## removing xx at the end of zip code \n",
    "df['zip_code'] = df['zip_code'].str.strip('xx')"
   ]
  },
  {
   "cell_type": "code",
   "execution_count": 24,
   "id": "c9e29a3e",
   "metadata": {},
   "outputs": [],
   "source": [
    "#Term is given in '36 months' format, changed it to 36\n",
    "df['term_months']=df['term'].str.strip('months')\n",
    "df.drop(columns=['term'],inplace=True)"
   ]
  },
  {
   "cell_type": "code",
   "execution_count": 25,
   "id": "0cbe2cf1",
   "metadata": {},
   "outputs": [],
   "source": [
    "#Intrest rate format was 10.65% , changed to 10.65 & datatype is also changed to float\n",
    "df['int_rate(%)']=df['int_rate'].str.strip('%').astype('float')\n",
    "df['revol_util(%)']=df['revol_util'].str.strip('%').astype('float')\n",
    "df.drop(columns=['int_rate','revol_util'],inplace=True)"
   ]
  },
  {
   "cell_type": "code",
   "execution_count": 26,
   "id": "8134e13e",
   "metadata": {},
   "outputs": [],
   "source": [
    "#Function to bring the data of emp_len in year only instead of 'n years'\n",
    "def func(x):\n",
    "    if '<' in x:\n",
    "        return 0\n",
    "    elif '+' in x:\n",
    "        year= int(x.split('+')[0])\n",
    "        return year\n",
    "    else:\n",
    "        year=int(x.split(' ')[0])\n",
    "        return year\n",
    "    \n",
    "\n",
    "df['emp_length(years)']=df['emp_length'].apply(lambda a:func(a))\n",
    "df.drop(columns=['emp_length'],inplace=True)"
   ]
  },
  {
   "cell_type": "code",
   "execution_count": 27,
   "id": "f259fff4",
   "metadata": {},
   "outputs": [
    {
     "data": {
      "text/plain": [
       "2021-12-11    1994\n",
       "2021-11-11    1970\n",
       "2021-10-11    1862\n",
       "2021-09-11    1837\n",
       "2021-08-11    1751\n",
       "2021-06-11    1674\n",
       "2021-07-11    1672\n",
       "2021-05-11    1554\n",
       "2021-04-11    1505\n",
       "2021-03-11    1400\n",
       "2021-01-11    1336\n",
       "2021-02-11    1239\n",
       "2021-12-10    1219\n",
       "2021-11-10    1096\n",
       "2021-07-10    1091\n",
       "2021-10-10    1083\n",
       "2021-09-10    1057\n",
       "2021-08-10    1055\n",
       "2021-06-10     991\n",
       "2021-05-10     894\n",
       "2021-04-10     806\n",
       "2021-03-10     717\n",
       "2021-02-10     604\n",
       "2021-11-09     601\n",
       "2021-12-09     596\n",
       "2021-01-10     583\n",
       "2021-10-09     544\n",
       "2021-09-09     447\n",
       "2021-08-09     407\n",
       "2021-07-09     373\n",
       "2021-06-09     354\n",
       "2021-05-09     319\n",
       "2021-04-09     288\n",
       "2021-03-09     275\n",
       "2021-02-09     259\n",
       "2021-01-09     236\n",
       "2021-12-08     222\n",
       "2021-11-08     183\n",
       "2021-04-08     155\n",
       "2021-03-08     117\n",
       "2021-10-08      96\n",
       "2021-07-08      82\n",
       "2021-05-08      69\n",
       "2021-08-08      69\n",
       "2021-06-08      66\n",
       "2021-09-08      32\n",
       "2021-02-08       7\n",
       "2021-01-08       6\n",
       "2021-12-07       2\n",
       "2021-11-07       2\n",
       "2021-10-07       1\n",
       "Name: issue_d, dtype: int64"
      ]
     },
     "execution_count": 27,
     "metadata": {},
     "output_type": "execute_result"
    }
   ],
   "source": [
    "df['issue_d'].value_counts()"
   ]
  },
  {
   "cell_type": "code",
   "execution_count": 28,
   "id": "47df5a37",
   "metadata": {},
   "outputs": [
    {
     "data": {
      "text/plain": [
       "(24,)"
      ]
     },
     "execution_count": 28,
     "metadata": {},
     "output_type": "execute_result"
    }
   ],
   "source": [
    "df.columns.shape"
   ]
  },
  {
   "cell_type": "code",
   "execution_count": 29,
   "id": "2a5d6b63",
   "metadata": {},
   "outputs": [],
   "source": [
    "# year , month are saved in different columns \n",
    "df['earliest_cr_line_month']=pd.to_datetime(df['earliest_cr_line']).dt.strftime('%m')\n",
    "df['earliest_cr_line_year']=pd.to_datetime(df['earliest_cr_line']).dt.strftime('%Y')\n",
    "df['issue_date_month']=pd.to_datetime(df['issue_d']).dt.strftime('%m')\n",
    "df['issue_date_year']=pd.to_datetime(df['issue_d']).dt.strftime('%Y')\n"
   ]
  },
  {
   "cell_type": "code",
   "execution_count": 30,
   "id": "1628aff6",
   "metadata": {},
   "outputs": [
    {
     "data": {
      "image/png": "[encoded data removed]",
      "text/plain": [
       "<Figure size 432x288 with 1 Axes>"
      ]
     },
     "metadata": {
      "needs_background": "light"
     },
     "output_type": "display_data"
    },
    {
     "data": {
      "image/png": "[encoded data removed]",
      "text/plain": [
       "<Figure size 432x288 with 1 Axes>"
      ]
     },
     "metadata": {
      "needs_background": "light"
     },
     "output_type": "display_data"
    },
    {
     "data": {
      "image/png": "[encoded data removed]",
      "text/plain": [
       "<Figure size 432x288 with 1 Axes>"
      ]
     },
     "metadata": {
      "needs_background": "light"
     },
     "output_type": "display_data"
    },
    {
     "data": {
      "image/png": "[encoded data removed]",
      "text/plain": [
       "<Figure size 432x288 with 1 Axes>"
      ]
     },
     "metadata": {
      "needs_background": "light"
     },
     "output_type": "display_data"
    },
    {
     "data": {
      "image/png": "[encoded data removed]",
      "text/plain": [
       "<Figure size 432x288 with 1 Axes>"
      ]
     },
     "metadata": {
      "needs_background": "light"
     },
     "output_type": "display_data"
    },
    {
     "data": {
      "image/png": "[encoded data removed]",
      "text/plain": [
       "<Figure size 432x288 with 1 Axes>"
      ]
     },
     "metadata": {
      "needs_background": "light"
     },
     "output_type": "display_data"
    },
    {
     "data": {
      "image/png": "[encoded data removed]",
      "text/plain": [
       "<Figure size 432x288 with 1 Axes>"
      ]
     },
     "metadata": {
      "needs_background": "light"
     },
     "output_type": "display_data"
    },
    {
     "data": {
      "image/png": "[encoded data removed]",
      "text/plain": [
       "<Figure size 432x288 with 1 Axes>"
      ]
     },
     "metadata": {
      "needs_background": "light"
     },
     "output_type": "display_data"
    },
    {
     "data": {
      "image/png": "[encoded data removed]",
      "text/plain": [
       "<Figure size 432x288 with 1 Axes>"
      ]
     },
     "metadata": {
      "needs_background": "light"
     },
     "output_type": "display_data"
    },
    {
     "data": {
      "image/png": "[encoded data removed]",
      "text/plain": [
       "<Figure size 432x288 with 1 Axes>"
      ]
     },
     "metadata": {
      "needs_background": "light"
     },
     "output_type": "display_data"
    },
    {
     "data": {
      "image/png": "[encoded data removed]",
      "text/plain": [
       "<Figure size 432x288 with 1 Axes>"
      ]
     },
     "metadata": {
      "needs_background": "light"
     },
     "output_type": "display_data"
    },
    {
     "data": {
      "image/png": "[encoded data removed]",
      "text/plain": [
       "<Figure size 432x288 with 1 Axes>"
      ]
     },
     "metadata": {
      "needs_background": "light"
     },
     "output_type": "display_data"
    },
    {
     "data": {
      "image/png": "[encoded data removed]",
      "text/plain": [
       "<Figure size 432x288 with 1 Axes>"
      ]
     },
     "metadata": {
      "needs_background": "light"
     },
     "output_type": "display_data"
    }
   ],
   "source": [
    "#Individual Boxplot to check outliers in each feature\n",
    "\n",
    "df_num=df.select_dtypes(include=np.number)\n",
    "\n",
    "for i in range(len(df_num.columns)):\n",
    "    sns.boxplot(df_num.iloc[:,i])\n",
    "    plt.show()\n"
   ]
  },
  {
   "cell_type": "code",
   "execution_count": 31,
   "id": "ad4ec184",
   "metadata": {
    "scrolled": true
   },
   "outputs": [
    {
     "data": {
      "text/plain": [
       "annual_inc                32.099728\n",
       "pub_rec_bankruptcies       4.631447\n",
       "pub_rec                    4.606609\n",
       "inq_last_6mths             1.372857\n",
       "installment                1.147121\n",
       "term_months                1.145653\n",
       "funded_amnt_inv            1.121491\n",
       "loan_amnt                  1.069983\n",
       "open_acc                   0.985253\n",
       "total_acc                  0.826369\n",
       "earliest_cr_line_year      0.373018\n",
       "int_rate(%)                0.279099\n",
       "emp_length(years)          0.206530\n",
       "zip_code                   0.079523\n",
       "issue_date_year            0.000000\n",
       "dti                       -0.030554\n",
       "revol_util(%)             -0.037978\n",
       "earliest_cr_line_month    -0.182328\n",
       "issue_date_month          -0.219586\n",
       "dtype: float64"
      ]
     },
     "execution_count": 31,
     "metadata": {},
     "output_type": "execute_result"
    }
   ],
   "source": [
    "#Skewness is checked for each feature\n",
    "#annual income has a lot of skew\n",
    "df.skew().sort_values(ascending=False)"
   ]
  },
  {
   "cell_type": "code",
   "execution_count": 32,
   "id": "fb6a96c1",
   "metadata": {},
   "outputs": [
    {
     "name": "stdout",
     "output_type": "stream",
     "text": [
      "Highest value in the annual income: 6000000.0\n",
      "75% quantile value in the annual income: 83000.0\n",
      "50% quantile (Mean) value in the annual income: 60000.0\n"
     ]
    }
   ],
   "source": [
    "#From the above boxplot & skewness values,  \n",
    "# we should treat outliers in each feature having high skewness individually\n",
    "\n",
    "# Looking upon the quantile values of each features, we will treat outliers for the some features\n",
    "\n",
    "#Outlier treatment for Annual income\n",
    "print('Highest value in the annual income:',df['annual_inc'].max())\n",
    "print('75% quantile value in the annual income:',df['annual_inc'].quantile(0.75))\n",
    "print('50% quantile (Mean) value in the annual income:',df['annual_inc'].quantile(0.50))"
   ]
  },
  {
   "cell_type": "code",
   "execution_count": 33,
   "id": "fa75d8d2",
   "metadata": {},
   "outputs": [
    {
     "name": "stdout",
     "output_type": "stream",
     "text": [
      "\n",
      "Skewness Before: 32.09972777637881\n"
     ]
    },
    {
     "data": {
      "image/png": "[encoded data removed]",
      "text/plain": [
       "<Figure size 720x288 with 1 Axes>"
      ]
     },
     "metadata": {
      "needs_background": "light"
     },
     "output_type": "display_data"
    },
    {
     "name": "stdout",
     "output_type": "stream",
     "text": [
      "Skewness After: 1.3760761452999963\n"
     ]
    },
    {
     "data": {
      "image/png": "[encoded data removed]",
      "text/plain": [
       "<Figure size 720x288 with 1 Axes>"
      ]
     },
     "metadata": {
      "needs_background": "light"
     },
     "output_type": "display_data"
    }
   ],
   "source": [
    "#Before removing outliers\n",
    "print('\\nSkewness Before:',df['annual_inc'].skew())\n",
    "plt.figure(figsize=(10,4))\n",
    "sns.boxplot(df['annual_inc'])\n",
    "plt.legend(labels=['Before removing Outliers'])\n",
    "plt.show()\n",
    "\n",
    "#We will remove the values which lies between quantile 99% to 100%\n",
    "df=df[df['annual_inc'] < df['annual_inc'].quantile(0.99)]\n",
    "plt.figure(figsize=(10,4))\n",
    "sns.boxplot(df['annual_inc'])\n",
    "print('Skewness After:',df['annual_inc'].skew())\n",
    "plt.legend(labels=['After removing Outliers'])\n",
    "plt.show()"
   ]
  },
  {
   "cell_type": "code",
   "execution_count": 34,
   "id": "49b324dc",
   "metadata": {},
   "outputs": [
    {
     "data": {
      "text/plain": [
       "True     36062\n",
       "False      367\n",
       "Name: annual_inc, dtype: int64"
      ]
     },
     "execution_count": 34,
     "metadata": {},
     "output_type": "execute_result"
    }
   ],
   "source": [
    "x= df['annual_inc'] < df['annual_inc'].quantile(0.99)\n",
    "x.value_counts()"
   ]
  },
  {
   "cell_type": "code",
   "execution_count": 35,
   "id": "fb292436",
   "metadata": {},
   "outputs": [
    {
     "name": "stdout",
     "output_type": "stream",
     "text": [
      "Highest value in the total_acc: 90\n",
      "75% quantile value in the total_acc: 29.0\n",
      "50% quantile (Mean) value in the total_acc: 20.0\n"
     ]
    }
   ],
   "source": [
    "#total_acc:The total number of credit lines currently in the borrower's credit file\n",
    "print('Highest value in the total_acc:',df['total_acc'].max())\n",
    "print('75% quantile value in the total_acc:',df['total_acc'].quantile(0.75))\n",
    "print('50% quantile (Mean) value in the total_acc:',df['total_acc'].quantile(0.50))"
   ]
  },
  {
   "cell_type": "code",
   "execution_count": 36,
   "id": "a1cd0c52",
   "metadata": {},
   "outputs": [
    {
     "data": {
      "text/plain": [
       "True     35610\n",
       "False      819\n",
       "Name: total_acc, dtype: int64"
      ]
     },
     "execution_count": 36,
     "metadata": {},
     "output_type": "execute_result"
    }
   ],
   "source": [
    "x= df['total_acc'] < df['total_acc'].quantile(0.98)\n",
    "x.value_counts()"
   ]
  },
  {
   "cell_type": "code",
   "execution_count": 37,
   "id": "496433aa",
   "metadata": {},
   "outputs": [
    {
     "name": "stdout",
     "output_type": "stream",
     "text": [
      "Highest value in the total_acc: 90\n",
      "75% quantile value in the total_acc: 29.0\n",
      "50% quantile (Mean) value in the total_acc: 20.0\n",
      "\n",
      "Skewness Before: 0.827600176522334\n"
     ]
    },
    {
     "data": {
      "image/png": "[encoded data removed]",
      "text/plain": [
       "<Figure size 720x288 with 1 Axes>"
      ]
     },
     "metadata": {
      "needs_background": "light"
     },
     "output_type": "display_data"
    },
    {
     "name": "stdout",
     "output_type": "stream",
     "text": [
      "Skewness After: 0.4853312873481121\n"
     ]
    },
    {
     "data": {
      "image/png": "[encoded data removed]",
      "text/plain": [
       "<Figure size 720x288 with 1 Axes>"
      ]
     },
     "metadata": {
      "needs_background": "light"
     },
     "output_type": "display_data"
    }
   ],
   "source": [
    "#total_acc:The total number of credit lines currently in the borrower's credit file\n",
    "print('Highest value in the total_acc:',df['total_acc'].max())\n",
    "print('75% quantile value in the total_acc:',df['total_acc'].quantile(0.75))\n",
    "print('50% quantile (Mean) value in the total_acc:',df['total_acc'].quantile(0.50))\n",
    "\n",
    "#Before removing outliers\n",
    "print('\\nSkewness Before:',df['total_acc'].skew())\n",
    "plt.figure(figsize=(10,4))\n",
    "sns.boxplot(df['total_acc'])\n",
    "plt.legend(labels=['Before removing Outliers'])\n",
    "plt.show()\n",
    "\n",
    "#We will remove the values which lies between quantile 98% to 100%\n",
    "df=df[df['total_acc'] < df['total_acc'].quantile(0.98)]\n",
    "plt.figure(figsize=(10,4))\n",
    "sns.boxplot(df['total_acc'])\n",
    "plt.legend(labels=['After removing Outliers'])\n",
    "print('Skewness After:',df['total_acc'].skew())\n",
    "plt.show()"
   ]
  },
  {
   "cell_type": "code",
   "execution_count": 38,
   "id": "01846fc6",
   "metadata": {},
   "outputs": [
    {
     "name": "stdout",
     "output_type": "stream",
     "text": [
      "Highest value in the open_acc: 34\n",
      "75% quantile value in the open_acc: 11.0\n",
      "50% quantile (Mean) value in the open_acc: 8.0\n",
      "\n",
      "Skewness Before: 0.8398745752803767\n"
     ]
    },
    {
     "data": {
      "image/png": "[encoded data removed]",
      "text/plain": [
       "<Figure size 720x288 with 1 Axes>"
      ]
     },
     "metadata": {
      "needs_background": "light"
     },
     "output_type": "display_data"
    },
    {
     "name": "stdout",
     "output_type": "stream",
     "text": [
      "Skewness After: 0.7675630656846745\n"
     ]
    },
    {
     "data": {
      "image/png": "[encoded data removed]",
      "text/plain": [
       "<Figure size 720x288 with 1 Axes>"
      ]
     },
     "metadata": {
      "needs_background": "light"
     },
     "output_type": "display_data"
    }
   ],
   "source": [
    "#open_acc : The number of open credit lines in the borrower's credit file.\n",
    "print('Highest value in the open_acc:',df['open_acc'].max())\n",
    "print('75% quantile value in the open_acc:',df['open_acc'].quantile(0.75))\n",
    "print('50% quantile (Mean) value in the open_acc:',df['open_acc'].quantile(0.50))\n",
    "\n",
    "#Before removing outliers\n",
    "print('\\nSkewness Before:',df['open_acc'].skew())\n",
    "plt.figure(figsize=(10,4))\n",
    "sns.boxplot(df['open_acc'])\n",
    "plt.legend(labels=['Before removing Outliers'])\n",
    "plt.show()\n",
    "\n",
    "\n",
    "#We will remove the values which lies between quantile 99.9% to 100%\n",
    "df=df[df['open_acc'] < df['open_acc'].quantile(0.999)]\n",
    "plt.figure(figsize=(10,4))\n",
    "sns.boxplot(df['open_acc'])\n",
    "plt.legend(labels=['After removing Outliers'])\n",
    "print('Skewness After:',df['open_acc'].skew())\n",
    "plt.show()"
   ]
  },
  {
   "cell_type": "code",
   "execution_count": 39,
   "id": "a9e3ff0c",
   "metadata": {},
   "outputs": [],
   "source": [
    "df['earliest_cr_line_month']=df['earliest_cr_line_month'].astype('int64')\n",
    "df['earliest_cr_line_year']=df['earliest_cr_line_year'].astype('int64')\n",
    "df['issue_date_month']=df['issue_date_month'].astype('int64')\n",
    "df['issue_date_year']=df['issue_date_year'].astype('int64')\n",
    "df['pub_rec']=df['pub_rec'].astype('int64')"
   ]
  },
  {
   "cell_type": "code",
   "execution_count": 40,
   "id": "05709bda",
   "metadata": {},
   "outputs": [
    {
     "name": "stdout",
     "output_type": "stream",
     "text": [
      "<class 'pandas.core.frame.DataFrame'>\n",
      "Int64Index: 35573 entries, 0 to 37895\n",
      "Data columns (total 28 columns):\n",
      " #   Column                  Non-Null Count  Dtype  \n",
      "---  ------                  --------------  -----  \n",
      " 0   loan_amnt               35573 non-null  int64  \n",
      " 1   funded_amnt_inv         35573 non-null  float64\n",
      " 2   installment             35573 non-null  float64\n",
      " 3   grade                   35573 non-null  object \n",
      " 4   sub_grade               35573 non-null  object \n",
      " 5   home_ownership          35573 non-null  object \n",
      " 6   annual_inc              35573 non-null  float64\n",
      " 7   verification_status     35573 non-null  object \n",
      " 8   issue_d                 35573 non-null  object \n",
      " 9   loan_status             35573 non-null  object \n",
      " 10  purpose                 35573 non-null  object \n",
      " 11  zip_code                35573 non-null  object \n",
      " 12  addr_state              35573 non-null  object \n",
      " 13  dti                     35573 non-null  float64\n",
      " 14  earliest_cr_line        35573 non-null  object \n",
      " 15  inq_last_6mths          35573 non-null  int64  \n",
      " 16  open_acc                35573 non-null  int64  \n",
      " 17  pub_rec                 35573 non-null  int64  \n",
      " 18  total_acc               35573 non-null  int64  \n",
      " 19  pub_rec_bankruptcies    35573 non-null  float64\n",
      " 20  term_months             35573 non-null  object \n",
      " 21  int_rate(%)             35573 non-null  float64\n",
      " 22  revol_util(%)           35573 non-null  float64\n",
      " 23  emp_length(years)       35573 non-null  int64  \n",
      " 24  earliest_cr_line_month  35573 non-null  int64  \n",
      " 25  earliest_cr_line_year   35573 non-null  int64  \n",
      " 26  issue_date_month        35573 non-null  int64  \n",
      " 27  issue_date_year         35573 non-null  int64  \n",
      "dtypes: float64(7), int64(10), object(11)\n",
      "memory usage: 7.9+ MB\n"
     ]
    }
   ],
   "source": [
    "df.info()"
   ]
  },
  {
   "cell_type": "code",
   "execution_count": 41,
   "id": "02663321",
   "metadata": {},
   "outputs": [],
   "source": [
    "df['loan_status']=df['loan_status'].replace({'Fully Paid':0,'Charged Off':1})"
   ]
  },
  {
   "cell_type": "code",
   "execution_count": 42,
   "id": "5450670e",
   "metadata": {},
   "outputs": [],
   "source": [
    "# def interest_rate(ints):\n",
    "#     if ints >=5 and ints <=10:\n",
    "#         return 'low'\n",
    "#     elif ints > 10 and ints <=20:\n",
    "#         return 'medium'\n",
    "#     else:\n",
    "#         return 'high'\n",
    "    \n",
    "# df['interest_rate_cat'] = df['int_rate(%)'].apply(lambda x: interest_rate(x))\n",
    "# df['interest_rate_cat'].value_counts()"
   ]
  },
  {
   "cell_type": "code",
   "execution_count": 43,
   "id": "e01e20b6",
   "metadata": {},
   "outputs": [
    {
     "data": {
      "text/html": [
       "<div>\n",
       "<style scoped>\n",
       "    .dataframe tbody tr th:only-of-type {\n",
       "        vertical-align: middle;\n",
       "    }\n",
       "\n",
       "    .dataframe tbody tr th {\n",
       "        vertical-align: top;\n",
       "    }\n",
       "\n",
       "    .dataframe thead th {\n",
       "        text-align: right;\n",
       "    }\n",
       "</style>\n",
       "<table border=\"1\" class=\"dataframe\">\n",
       "  <thead>\n",
       "    <tr style=\"text-align: right;\">\n",
       "      <th></th>\n",
       "      <th>loan_amnt</th>\n",
       "      <th>funded_amnt_inv</th>\n",
       "      <th>installment</th>\n",
       "      <th>grade</th>\n",
       "      <th>sub_grade</th>\n",
       "      <th>home_ownership</th>\n",
       "      <th>annual_inc</th>\n",
       "      <th>verification_status</th>\n",
       "      <th>issue_d</th>\n",
       "      <th>loan_status</th>\n",
       "      <th>purpose</th>\n",
       "      <th>zip_code</th>\n",
       "      <th>addr_state</th>\n",
       "      <th>dti</th>\n",
       "      <th>earliest_cr_line</th>\n",
       "      <th>inq_last_6mths</th>\n",
       "      <th>open_acc</th>\n",
       "      <th>pub_rec</th>\n",
       "      <th>total_acc</th>\n",
       "      <th>pub_rec_bankruptcies</th>\n",
       "      <th>term_months</th>\n",
       "      <th>int_rate(%)</th>\n",
       "      <th>revol_util(%)</th>\n",
       "      <th>emp_length(years)</th>\n",
       "      <th>earliest_cr_line_month</th>\n",
       "      <th>earliest_cr_line_year</th>\n",
       "      <th>issue_date_month</th>\n",
       "      <th>issue_date_year</th>\n",
       "    </tr>\n",
       "  </thead>\n",
       "  <tbody>\n",
       "    <tr>\n",
       "      <th>0</th>\n",
       "      <td>5000</td>\n",
       "      <td>4975.0</td>\n",
       "      <td>162.87</td>\n",
       "      <td>B</td>\n",
       "      <td>B2</td>\n",
       "      <td>RENT</td>\n",
       "      <td>24000.0</td>\n",
       "      <td>Verified</td>\n",
       "      <td>2021-12-11</td>\n",
       "      <td>0</td>\n",
       "      <td>credit_card</td>\n",
       "      <td>860</td>\n",
       "      <td>AZ</td>\n",
       "      <td>27.65</td>\n",
       "      <td>1985-01-01</td>\n",
       "      <td>1</td>\n",
       "      <td>3</td>\n",
       "      <td>0</td>\n",
       "      <td>9</td>\n",
       "      <td>0.0</td>\n",
       "      <td>36</td>\n",
       "      <td>10.65</td>\n",
       "      <td>83.7</td>\n",
       "      <td>10</td>\n",
       "      <td>1</td>\n",
       "      <td>1985</td>\n",
       "      <td>12</td>\n",
       "      <td>2021</td>\n",
       "    </tr>\n",
       "    <tr>\n",
       "      <th>1</th>\n",
       "      <td>2500</td>\n",
       "      <td>2500.0</td>\n",
       "      <td>59.83</td>\n",
       "      <td>C</td>\n",
       "      <td>C4</td>\n",
       "      <td>RENT</td>\n",
       "      <td>30000.0</td>\n",
       "      <td>Source Verified</td>\n",
       "      <td>2021-12-11</td>\n",
       "      <td>1</td>\n",
       "      <td>car</td>\n",
       "      <td>309</td>\n",
       "      <td>GA</td>\n",
       "      <td>1.00</td>\n",
       "      <td>1999-04-01</td>\n",
       "      <td>5</td>\n",
       "      <td>3</td>\n",
       "      <td>0</td>\n",
       "      <td>4</td>\n",
       "      <td>0.0</td>\n",
       "      <td>60</td>\n",
       "      <td>15.27</td>\n",
       "      <td>9.4</td>\n",
       "      <td>0</td>\n",
       "      <td>4</td>\n",
       "      <td>1999</td>\n",
       "      <td>12</td>\n",
       "      <td>2021</td>\n",
       "    </tr>\n",
       "    <tr>\n",
       "      <th>2</th>\n",
       "      <td>2400</td>\n",
       "      <td>2400.0</td>\n",
       "      <td>84.33</td>\n",
       "      <td>C</td>\n",
       "      <td>C5</td>\n",
       "      <td>RENT</td>\n",
       "      <td>12252.0</td>\n",
       "      <td>Not Verified</td>\n",
       "      <td>2021-12-11</td>\n",
       "      <td>0</td>\n",
       "      <td>small_business</td>\n",
       "      <td>606</td>\n",
       "      <td>IL</td>\n",
       "      <td>8.72</td>\n",
       "      <td>2021-11-01</td>\n",
       "      <td>2</td>\n",
       "      <td>2</td>\n",
       "      <td>0</td>\n",
       "      <td>10</td>\n",
       "      <td>0.0</td>\n",
       "      <td>36</td>\n",
       "      <td>15.96</td>\n",
       "      <td>98.5</td>\n",
       "      <td>10</td>\n",
       "      <td>11</td>\n",
       "      <td>2021</td>\n",
       "      <td>12</td>\n",
       "      <td>2021</td>\n",
       "    </tr>\n",
       "    <tr>\n",
       "      <th>3</th>\n",
       "      <td>10000</td>\n",
       "      <td>10000.0</td>\n",
       "      <td>339.31</td>\n",
       "      <td>C</td>\n",
       "      <td>C1</td>\n",
       "      <td>RENT</td>\n",
       "      <td>49200.0</td>\n",
       "      <td>Source Verified</td>\n",
       "      <td>2021-12-11</td>\n",
       "      <td>0</td>\n",
       "      <td>other</td>\n",
       "      <td>917</td>\n",
       "      <td>CA</td>\n",
       "      <td>20.00</td>\n",
       "      <td>1996-02-01</td>\n",
       "      <td>1</td>\n",
       "      <td>10</td>\n",
       "      <td>0</td>\n",
       "      <td>37</td>\n",
       "      <td>0.0</td>\n",
       "      <td>36</td>\n",
       "      <td>13.49</td>\n",
       "      <td>21.0</td>\n",
       "      <td>10</td>\n",
       "      <td>2</td>\n",
       "      <td>1996</td>\n",
       "      <td>12</td>\n",
       "      <td>2021</td>\n",
       "    </tr>\n",
       "    <tr>\n",
       "      <th>5</th>\n",
       "      <td>5000</td>\n",
       "      <td>5000.0</td>\n",
       "      <td>156.46</td>\n",
       "      <td>A</td>\n",
       "      <td>A4</td>\n",
       "      <td>RENT</td>\n",
       "      <td>36000.0</td>\n",
       "      <td>Source Verified</td>\n",
       "      <td>2021-12-11</td>\n",
       "      <td>0</td>\n",
       "      <td>wedding</td>\n",
       "      <td>852</td>\n",
       "      <td>AZ</td>\n",
       "      <td>11.20</td>\n",
       "      <td>2021-11-04</td>\n",
       "      <td>3</td>\n",
       "      <td>9</td>\n",
       "      <td>0</td>\n",
       "      <td>12</td>\n",
       "      <td>0.0</td>\n",
       "      <td>36</td>\n",
       "      <td>7.90</td>\n",
       "      <td>28.3</td>\n",
       "      <td>3</td>\n",
       "      <td>11</td>\n",
       "      <td>2021</td>\n",
       "      <td>12</td>\n",
       "      <td>2021</td>\n",
       "    </tr>\n",
       "  </tbody>\n",
       "</table>\n",
       "</div>"
      ],
      "text/plain": [
       "   loan_amnt  funded_amnt_inv  installment grade sub_grade home_ownership  \\\n",
       "0       5000           4975.0       162.87     B        B2           RENT   \n",
       "1       2500           2500.0        59.83     C        C4           RENT   \n",
       "2       2400           2400.0        84.33     C        C5           RENT   \n",
       "3      10000          10000.0       339.31     C        C1           RENT   \n",
       "5       5000           5000.0       156.46     A        A4           RENT   \n",
       "\n",
       "   annual_inc verification_status     issue_d  loan_status         purpose  \\\n",
       "0     24000.0            Verified  2021-12-11            0     credit_card   \n",
       "1     30000.0     Source Verified  2021-12-11            1             car   \n",
       "2     12252.0        Not Verified  2021-12-11            0  small_business   \n",
       "3     49200.0     Source Verified  2021-12-11            0           other   \n",
       "5     36000.0     Source Verified  2021-12-11            0         wedding   \n",
       "\n",
       "  zip_code addr_state    dti earliest_cr_line  inq_last_6mths  open_acc  \\\n",
       "0      860         AZ  27.65       1985-01-01               1         3   \n",
       "1      309         GA   1.00       1999-04-01               5         3   \n",
       "2      606         IL   8.72       2021-11-01               2         2   \n",
       "3      917         CA  20.00       1996-02-01               1        10   \n",
       "5      852         AZ  11.20       2021-11-04               3         9   \n",
       "\n",
       "   pub_rec  total_acc  pub_rec_bankruptcies term_months  int_rate(%)  \\\n",
       "0        0          9                   0.0         36         10.65   \n",
       "1        0          4                   0.0         60         15.27   \n",
       "2        0         10                   0.0         36         15.96   \n",
       "3        0         37                   0.0         36         13.49   \n",
       "5        0         12                   0.0         36          7.90   \n",
       "\n",
       "   revol_util(%)  emp_length(years)  earliest_cr_line_month  \\\n",
       "0           83.7                 10                       1   \n",
       "1            9.4                  0                       4   \n",
       "2           98.5                 10                      11   \n",
       "3           21.0                 10                       2   \n",
       "5           28.3                  3                      11   \n",
       "\n",
       "   earliest_cr_line_year  issue_date_month  issue_date_year  \n",
       "0                   1985                12             2021  \n",
       "1                   1999                12             2021  \n",
       "2                   2021                12             2021  \n",
       "3                   1996                12             2021  \n",
       "5                   2021                12             2021  "
      ]
     },
     "execution_count": 43,
     "metadata": {},
     "output_type": "execute_result"
    }
   ],
   "source": [
    "df.head()"
   ]
  },
  {
   "cell_type": "code",
   "execution_count": 44,
   "id": "0c54dc3e",
   "metadata": {
    "scrolled": true
   },
   "outputs": [
    {
     "data": {
      "text/plain": [
       "Index(['grade', 'sub_grade', 'home_ownership', 'verification_status',\n",
       "       'issue_d', 'purpose', 'zip_code', 'addr_state', 'earliest_cr_line',\n",
       "       'term_months'],\n",
       "      dtype='object')"
      ]
     },
     "execution_count": 44,
     "metadata": {},
     "output_type": "execute_result"
    }
   ],
   "source": [
    "df.select_dtypes('object').columns"
   ]
  },
  {
   "cell_type": "code",
   "execution_count": 45,
   "id": "34bd9825",
   "metadata": {},
   "outputs": [
    {
     "name": "stdout",
     "output_type": "stream",
     "text": [
      "<class 'pandas.core.frame.DataFrame'>\n",
      "Int64Index: 35573 entries, 0 to 37895\n",
      "Data columns (total 17 columns):\n",
      " #   Column                  Non-Null Count  Dtype  \n",
      "---  ------                  --------------  -----  \n",
      " 0   loan_amnt               35573 non-null  int64  \n",
      " 1   funded_amnt_inv         35573 non-null  float64\n",
      " 2   installment             35573 non-null  float64\n",
      " 3   annual_inc              35573 non-null  float64\n",
      " 4   dti                     35573 non-null  float64\n",
      " 5   inq_last_6mths          35573 non-null  int64  \n",
      " 6   open_acc                35573 non-null  int64  \n",
      " 7   pub_rec                 35573 non-null  int64  \n",
      " 8   total_acc               35573 non-null  int64  \n",
      " 9   pub_rec_bankruptcies    35573 non-null  float64\n",
      " 10  int_rate(%)             35573 non-null  float64\n",
      " 11  revol_util(%)           35573 non-null  float64\n",
      " 12  emp_length(years)       35573 non-null  int64  \n",
      " 13  earliest_cr_line_month  35573 non-null  int64  \n",
      " 14  earliest_cr_line_year   35573 non-null  int64  \n",
      " 15  issue_date_month        35573 non-null  int64  \n",
      " 16  issue_date_year         35573 non-null  int64  \n",
      "dtypes: float64(7), int64(10)\n",
      "memory usage: 4.9 MB\n"
     ]
    }
   ],
   "source": [
    "df['loan_status']=df['loan_status'].astype('object')\n",
    "df_num=df.select_dtypes(include=np.number)\n",
    "df_num.info()"
   ]
  },
  {
   "cell_type": "code",
   "execution_count": 46,
   "id": "fe34b357",
   "metadata": {
    "scrolled": true
   },
   "outputs": [
    {
     "name": "stdout",
     "output_type": "stream",
     "text": [
      "(35573, 11)\n"
     ]
    },
    {
     "data": {
      "text/plain": [
       "Index(['grade', 'sub_grade', 'home_ownership', 'verification_status',\n",
       "       'issue_d', 'loan_status', 'purpose', 'zip_code', 'addr_state',\n",
       "       'earliest_cr_line', 'term_months'],\n",
       "      dtype='object')"
      ]
     },
     "execution_count": 46,
     "metadata": {},
     "output_type": "execute_result"
    }
   ],
   "source": [
    "df_cat=df.select_dtypes(include=object)\n",
    "print(df_cat.shape)\n",
    "df_cat.columns"
   ]
  },
  {
   "cell_type": "code",
   "execution_count": 47,
   "id": "e0db5199",
   "metadata": {},
   "outputs": [],
   "source": [
    "df_cat.drop(columns='sub_grade',inplace=True)"
   ]
  },
  {
   "cell_type": "code",
   "execution_count": 48,
   "id": "59312894",
   "metadata": {
    "scrolled": true
   },
   "outputs": [
    {
     "data": {
      "text/plain": [
       "(35573, 12)"
      ]
     },
     "execution_count": 48,
     "metadata": {},
     "output_type": "execute_result"
    }
   ],
   "source": [
    "df_dummies=pd.get_dummies(df_cat[['home_ownership','grade','verification_status','term_months']],drop_first=True)\n",
    "df_dummies.shape"
   ]
  },
  {
   "cell_type": "code",
   "execution_count": 49,
   "id": "f6b705dc",
   "metadata": {},
   "outputs": [],
   "source": [
    "state=df_cat['addr_state'].unique()\n",
    "add_dict={}\n",
    "j=1\n",
    "for i in state:\n",
    "    add_dict[i]=j\n",
    "    j=j+1\n",
    "df_cat['addr_state']=df_cat['addr_state'].map(add_dict)"
   ]
  },
  {
   "cell_type": "code",
   "execution_count": 71,
   "id": "c9a967ca",
   "metadata": {},
   "outputs": [
    {
     "data": {
      "text/plain": [
       "'PA'"
      ]
     },
     "execution_count": 71,
     "metadata": {},
     "output_type": "execute_result"
    }
   ],
   "source": [
    "state[12]"
   ]
  },
  {
   "cell_type": "code",
   "execution_count": 52,
   "id": "13557f96",
   "metadata": {},
   "outputs": [],
   "source": [
    "purpose=df_cat['purpose'].unique()\n",
    "purpose_dict={}\n",
    "j=1\n",
    "for i in purpose:\n",
    "    purpose_dict[i]=j\n",
    "    j=j+1\n",
    "df_cat['purpose']=df_cat['purpose'].map(purpose_dict)  "
   ]
  },
  {
   "cell_type": "code",
   "execution_count": 74,
   "id": "b5ebecd6",
   "metadata": {},
   "outputs": [
    {
     "data": {
      "text/plain": [
       "'wedding'"
      ]
     },
     "execution_count": 74,
     "metadata": {},
     "output_type": "execute_result"
    }
   ],
   "source": [
    "purpose[4]"
   ]
  },
  {
   "cell_type": "code",
   "execution_count": 52,
   "id": "7923222e",
   "metadata": {},
   "outputs": [
    {
     "data": {
      "text/plain": [
       "(35573, 16)"
      ]
     },
     "execution_count": 52,
     "metadata": {},
     "output_type": "execute_result"
    }
   ],
   "source": [
    "df_cat.drop(columns=['home_ownership','grade','verification_status','term_months','earliest_cr_line','issue_d'],inplace=True)\n",
    "\n",
    "#concatenating the df_dummies, df_cat\n",
    "df_cat=pd.concat([df_cat,df_dummies],axis=1)\n",
    "df_cat.shape"
   ]
  },
  {
   "cell_type": "code",
   "execution_count": 53,
   "id": "ecd62cdd",
   "metadata": {
    "scrolled": true
   },
   "outputs": [],
   "source": [
    "#concaneating without scale \n",
    "df_final= pd.concat([df_num,df_cat],axis=1)"
   ]
  },
  {
   "cell_type": "code",
   "execution_count": 54,
   "id": "bacc1cbb",
   "metadata": {},
   "outputs": [],
   "source": [
    "df_final2=df_final.copy()"
   ]
  },
  {
   "cell_type": "code",
   "execution_count": 55,
   "id": "489f6a03",
   "metadata": {},
   "outputs": [],
   "source": [
    "file_name='clean_loan_dataNov17.xlsx'\n",
    "df_final.to_excel(file_name)"
   ]
  },
  {
   "cell_type": "code",
   "execution_count": 56,
   "id": "d3bd27fd",
   "metadata": {},
   "outputs": [
    {
     "data": {
      "text/html": [
       "<div>\n",
       "<style scoped>\n",
       "    .dataframe tbody tr th:only-of-type {\n",
       "        vertical-align: middle;\n",
       "    }\n",
       "\n",
       "    .dataframe tbody tr th {\n",
       "        vertical-align: top;\n",
       "    }\n",
       "\n",
       "    .dataframe thead th {\n",
       "        text-align: right;\n",
       "    }\n",
       "</style>\n",
       "<table border=\"1\" class=\"dataframe\">\n",
       "  <thead>\n",
       "    <tr style=\"text-align: right;\">\n",
       "      <th></th>\n",
       "      <th>loan_amnt</th>\n",
       "      <th>funded_amnt_inv</th>\n",
       "      <th>dti</th>\n",
       "      <th>int_rate(%)</th>\n",
       "      <th>revol_util(%)</th>\n",
       "      <th>annual_inc</th>\n",
       "      <th>installment</th>\n",
       "    </tr>\n",
       "  </thead>\n",
       "  <tbody>\n",
       "    <tr>\n",
       "      <th>0</th>\n",
       "      <td>-0.827143</td>\n",
       "      <td>-0.772591</td>\n",
       "      <td>2.157559</td>\n",
       "      <td>-0.353840</td>\n",
       "      <td>1.219816</td>\n",
       "      <td>-1.191661</td>\n",
       "      <td>-0.768861</td>\n",
       "    </tr>\n",
       "    <tr>\n",
       "      <th>1</th>\n",
       "      <td>-1.171758</td>\n",
       "      <td>-1.131295</td>\n",
       "      <td>-1.857005</td>\n",
       "      <td>0.903584</td>\n",
       "      <td>-1.402421</td>\n",
       "      <td>-1.018856</td>\n",
       "      <td>-1.271193</td>\n",
       "    </tr>\n",
       "    <tr>\n",
       "      <th>2</th>\n",
       "      <td>-1.185542</td>\n",
       "      <td>-1.145788</td>\n",
       "      <td>-0.694062</td>\n",
       "      <td>1.091381</td>\n",
       "      <td>1.742145</td>\n",
       "      <td>-1.530015</td>\n",
       "      <td>-1.151752</td>\n",
       "    </tr>\n",
       "    <tr>\n",
       "      <th>3</th>\n",
       "      <td>-0.137915</td>\n",
       "      <td>-0.044314</td>\n",
       "      <td>1.005161</td>\n",
       "      <td>0.419122</td>\n",
       "      <td>-0.993027</td>\n",
       "      <td>-0.465878</td>\n",
       "      <td>0.091303</td>\n",
       "    </tr>\n",
       "    <tr>\n",
       "      <th>4</th>\n",
       "      <td>-0.827143</td>\n",
       "      <td>-0.768968</td>\n",
       "      <td>-0.320474</td>\n",
       "      <td>-1.102306</td>\n",
       "      <td>-0.735391</td>\n",
       "      <td>-0.846050</td>\n",
       "      <td>-0.800111</td>\n",
       "    </tr>\n",
       "  </tbody>\n",
       "</table>\n",
       "</div>"
      ],
      "text/plain": [
       "   loan_amnt  funded_amnt_inv       dti  int_rate(%)  revol_util(%)  \\\n",
       "0  -0.827143        -0.772591  2.157559    -0.353840       1.219816   \n",
       "1  -1.171758        -1.131295 -1.857005     0.903584      -1.402421   \n",
       "2  -1.185542        -1.145788 -0.694062     1.091381       1.742145   \n",
       "3  -0.137915        -0.044314  1.005161     0.419122      -0.993027   \n",
       "4  -0.827143        -0.768968 -0.320474    -1.102306      -0.735391   \n",
       "\n",
       "   annual_inc  installment  \n",
       "0   -1.191661    -0.768861  \n",
       "1   -1.018856    -1.271193  \n",
       "2   -1.530015    -1.151752  \n",
       "3   -0.465878     0.091303  \n",
       "4   -0.846050    -0.800111  "
      ]
     },
     "execution_count": 56,
     "metadata": {},
     "output_type": "execute_result"
    }
   ],
   "source": [
    "#standardizing - just in case you need it later\n",
    "from sklearn.preprocessing import StandardScaler\n",
    "sc=StandardScaler()\n",
    "\n",
    "df_numsc=df_final.loc[:,['loan_amnt','funded_amnt_inv','dti','int_rate(%)','revol_util(%)','annual_inc','installment']]\n",
    "df_numsc=pd.DataFrame(sc.fit_transform(df_numsc),columns=df_numsc.columns)\n",
    "df_numsc.head()"
   ]
  },
  {
   "cell_type": "code",
   "execution_count": 57,
   "id": "22c05116",
   "metadata": {},
   "outputs": [],
   "source": [
    "df_final_sc=pd.concat([df_numsc,df_final2.drop(columns=df_numsc)])"
   ]
  },
  {
   "cell_type": "code",
   "execution_count": 58,
   "id": "4bf647a1",
   "metadata": {},
   "outputs": [
    {
     "data": {
      "text/html": [
       "<div>\n",
       "<style scoped>\n",
       "    .dataframe tbody tr th:only-of-type {\n",
       "        vertical-align: middle;\n",
       "    }\n",
       "\n",
       "    .dataframe tbody tr th {\n",
       "        vertical-align: top;\n",
       "    }\n",
       "\n",
       "    .dataframe thead th {\n",
       "        text-align: right;\n",
       "    }\n",
       "</style>\n",
       "<table border=\"1\" class=\"dataframe\">\n",
       "  <thead>\n",
       "    <tr style=\"text-align: right;\">\n",
       "      <th></th>\n",
       "      <th>loan_amnt</th>\n",
       "      <th>funded_amnt_inv</th>\n",
       "      <th>dti</th>\n",
       "      <th>int_rate(%)</th>\n",
       "      <th>revol_util(%)</th>\n",
       "      <th>annual_inc</th>\n",
       "      <th>installment</th>\n",
       "      <th>inq_last_6mths</th>\n",
       "      <th>open_acc</th>\n",
       "      <th>pub_rec</th>\n",
       "      <th>total_acc</th>\n",
       "      <th>pub_rec_bankruptcies</th>\n",
       "      <th>emp_length(years)</th>\n",
       "      <th>earliest_cr_line_month</th>\n",
       "      <th>earliest_cr_line_year</th>\n",
       "      <th>issue_date_month</th>\n",
       "      <th>issue_date_year</th>\n",
       "      <th>loan_status</th>\n",
       "      <th>purpose</th>\n",
       "      <th>zip_code</th>\n",
       "      <th>addr_state</th>\n",
       "      <th>home_ownership_OTHER</th>\n",
       "      <th>home_ownership_OWN</th>\n",
       "      <th>home_ownership_RENT</th>\n",
       "      <th>grade_B</th>\n",
       "      <th>grade_C</th>\n",
       "      <th>grade_D</th>\n",
       "      <th>grade_E</th>\n",
       "      <th>grade_F</th>\n",
       "      <th>grade_G</th>\n",
       "      <th>verification_status_Source Verified</th>\n",
       "      <th>verification_status_Verified</th>\n",
       "      <th>term_months_ 60</th>\n",
       "    </tr>\n",
       "  </thead>\n",
       "  <tbody>\n",
       "    <tr>\n",
       "      <th>0</th>\n",
       "      <td>-0.827143</td>\n",
       "      <td>-0.772591</td>\n",
       "      <td>2.157559</td>\n",
       "      <td>-0.353840</td>\n",
       "      <td>1.219816</td>\n",
       "      <td>-1.191661</td>\n",
       "      <td>-0.768861</td>\n",
       "      <td>NaN</td>\n",
       "      <td>NaN</td>\n",
       "      <td>NaN</td>\n",
       "      <td>NaN</td>\n",
       "      <td>NaN</td>\n",
       "      <td>NaN</td>\n",
       "      <td>NaN</td>\n",
       "      <td>NaN</td>\n",
       "      <td>NaN</td>\n",
       "      <td>NaN</td>\n",
       "      <td>NaN</td>\n",
       "      <td>NaN</td>\n",
       "      <td>NaN</td>\n",
       "      <td>NaN</td>\n",
       "      <td>NaN</td>\n",
       "      <td>NaN</td>\n",
       "      <td>NaN</td>\n",
       "      <td>NaN</td>\n",
       "      <td>NaN</td>\n",
       "      <td>NaN</td>\n",
       "      <td>NaN</td>\n",
       "      <td>NaN</td>\n",
       "      <td>NaN</td>\n",
       "      <td>NaN</td>\n",
       "      <td>NaN</td>\n",
       "      <td>NaN</td>\n",
       "    </tr>\n",
       "    <tr>\n",
       "      <th>1</th>\n",
       "      <td>-1.171758</td>\n",
       "      <td>-1.131295</td>\n",
       "      <td>-1.857005</td>\n",
       "      <td>0.903584</td>\n",
       "      <td>-1.402421</td>\n",
       "      <td>-1.018856</td>\n",
       "      <td>-1.271193</td>\n",
       "      <td>NaN</td>\n",
       "      <td>NaN</td>\n",
       "      <td>NaN</td>\n",
       "      <td>NaN</td>\n",
       "      <td>NaN</td>\n",
       "      <td>NaN</td>\n",
       "      <td>NaN</td>\n",
       "      <td>NaN</td>\n",
       "      <td>NaN</td>\n",
       "      <td>NaN</td>\n",
       "      <td>NaN</td>\n",
       "      <td>NaN</td>\n",
       "      <td>NaN</td>\n",
       "      <td>NaN</td>\n",
       "      <td>NaN</td>\n",
       "      <td>NaN</td>\n",
       "      <td>NaN</td>\n",
       "      <td>NaN</td>\n",
       "      <td>NaN</td>\n",
       "      <td>NaN</td>\n",
       "      <td>NaN</td>\n",
       "      <td>NaN</td>\n",
       "      <td>NaN</td>\n",
       "      <td>NaN</td>\n",
       "      <td>NaN</td>\n",
       "      <td>NaN</td>\n",
       "    </tr>\n",
       "    <tr>\n",
       "      <th>2</th>\n",
       "      <td>-1.185542</td>\n",
       "      <td>-1.145788</td>\n",
       "      <td>-0.694062</td>\n",
       "      <td>1.091381</td>\n",
       "      <td>1.742145</td>\n",
       "      <td>-1.530015</td>\n",
       "      <td>-1.151752</td>\n",
       "      <td>NaN</td>\n",
       "      <td>NaN</td>\n",
       "      <td>NaN</td>\n",
       "      <td>NaN</td>\n",
       "      <td>NaN</td>\n",
       "      <td>NaN</td>\n",
       "      <td>NaN</td>\n",
       "      <td>NaN</td>\n",
       "      <td>NaN</td>\n",
       "      <td>NaN</td>\n",
       "      <td>NaN</td>\n",
       "      <td>NaN</td>\n",
       "      <td>NaN</td>\n",
       "      <td>NaN</td>\n",
       "      <td>NaN</td>\n",
       "      <td>NaN</td>\n",
       "      <td>NaN</td>\n",
       "      <td>NaN</td>\n",
       "      <td>NaN</td>\n",
       "      <td>NaN</td>\n",
       "      <td>NaN</td>\n",
       "      <td>NaN</td>\n",
       "      <td>NaN</td>\n",
       "      <td>NaN</td>\n",
       "      <td>NaN</td>\n",
       "      <td>NaN</td>\n",
       "    </tr>\n",
       "    <tr>\n",
       "      <th>3</th>\n",
       "      <td>-0.137915</td>\n",
       "      <td>-0.044314</td>\n",
       "      <td>1.005161</td>\n",
       "      <td>0.419122</td>\n",
       "      <td>-0.993027</td>\n",
       "      <td>-0.465878</td>\n",
       "      <td>0.091303</td>\n",
       "      <td>NaN</td>\n",
       "      <td>NaN</td>\n",
       "      <td>NaN</td>\n",
       "      <td>NaN</td>\n",
       "      <td>NaN</td>\n",
       "      <td>NaN</td>\n",
       "      <td>NaN</td>\n",
       "      <td>NaN</td>\n",
       "      <td>NaN</td>\n",
       "      <td>NaN</td>\n",
       "      <td>NaN</td>\n",
       "      <td>NaN</td>\n",
       "      <td>NaN</td>\n",
       "      <td>NaN</td>\n",
       "      <td>NaN</td>\n",
       "      <td>NaN</td>\n",
       "      <td>NaN</td>\n",
       "      <td>NaN</td>\n",
       "      <td>NaN</td>\n",
       "      <td>NaN</td>\n",
       "      <td>NaN</td>\n",
       "      <td>NaN</td>\n",
       "      <td>NaN</td>\n",
       "      <td>NaN</td>\n",
       "      <td>NaN</td>\n",
       "      <td>NaN</td>\n",
       "    </tr>\n",
       "    <tr>\n",
       "      <th>4</th>\n",
       "      <td>-0.827143</td>\n",
       "      <td>-0.768968</td>\n",
       "      <td>-0.320474</td>\n",
       "      <td>-1.102306</td>\n",
       "      <td>-0.735391</td>\n",
       "      <td>-0.846050</td>\n",
       "      <td>-0.800111</td>\n",
       "      <td>NaN</td>\n",
       "      <td>NaN</td>\n",
       "      <td>NaN</td>\n",
       "      <td>NaN</td>\n",
       "      <td>NaN</td>\n",
       "      <td>NaN</td>\n",
       "      <td>NaN</td>\n",
       "      <td>NaN</td>\n",
       "      <td>NaN</td>\n",
       "      <td>NaN</td>\n",
       "      <td>NaN</td>\n",
       "      <td>NaN</td>\n",
       "      <td>NaN</td>\n",
       "      <td>NaN</td>\n",
       "      <td>NaN</td>\n",
       "      <td>NaN</td>\n",
       "      <td>NaN</td>\n",
       "      <td>NaN</td>\n",
       "      <td>NaN</td>\n",
       "      <td>NaN</td>\n",
       "      <td>NaN</td>\n",
       "      <td>NaN</td>\n",
       "      <td>NaN</td>\n",
       "      <td>NaN</td>\n",
       "      <td>NaN</td>\n",
       "      <td>NaN</td>\n",
       "    </tr>\n",
       "  </tbody>\n",
       "</table>\n",
       "</div>"
      ],
      "text/plain": [
       "   loan_amnt  funded_amnt_inv       dti  int_rate(%)  revol_util(%)  \\\n",
       "0  -0.827143        -0.772591  2.157559    -0.353840       1.219816   \n",
       "1  -1.171758        -1.131295 -1.857005     0.903584      -1.402421   \n",
       "2  -1.185542        -1.145788 -0.694062     1.091381       1.742145   \n",
       "3  -0.137915        -0.044314  1.005161     0.419122      -0.993027   \n",
       "4  -0.827143        -0.768968 -0.320474    -1.102306      -0.735391   \n",
       "\n",
       "   annual_inc  installment  inq_last_6mths  open_acc  pub_rec  total_acc  \\\n",
       "0   -1.191661    -0.768861             NaN       NaN      NaN        NaN   \n",
       "1   -1.018856    -1.271193             NaN       NaN      NaN        NaN   \n",
       "2   -1.530015    -1.151752             NaN       NaN      NaN        NaN   \n",
       "3   -0.465878     0.091303             NaN       NaN      NaN        NaN   \n",
       "4   -0.846050    -0.800111             NaN       NaN      NaN        NaN   \n",
       "\n",
       "   pub_rec_bankruptcies  emp_length(years)  earliest_cr_line_month  \\\n",
       "0                   NaN                NaN                     NaN   \n",
       "1                   NaN                NaN                     NaN   \n",
       "2                   NaN                NaN                     NaN   \n",
       "3                   NaN                NaN                     NaN   \n",
       "4                   NaN                NaN                     NaN   \n",
       "\n",
       "   earliest_cr_line_year  issue_date_month  issue_date_year loan_status  \\\n",
       "0                    NaN               NaN              NaN         NaN   \n",
       "1                    NaN               NaN              NaN         NaN   \n",
       "2                    NaN               NaN              NaN         NaN   \n",
       "3                    NaN               NaN              NaN         NaN   \n",
       "4                    NaN               NaN              NaN         NaN   \n",
       "\n",
       "   purpose zip_code  addr_state  home_ownership_OTHER  home_ownership_OWN  \\\n",
       "0      NaN      NaN         NaN                   NaN                 NaN   \n",
       "1      NaN      NaN         NaN                   NaN                 NaN   \n",
       "2      NaN      NaN         NaN                   NaN                 NaN   \n",
       "3      NaN      NaN         NaN                   NaN                 NaN   \n",
       "4      NaN      NaN         NaN                   NaN                 NaN   \n",
       "\n",
       "   home_ownership_RENT  grade_B  grade_C  grade_D  grade_E  grade_F  grade_G  \\\n",
       "0                  NaN      NaN      NaN      NaN      NaN      NaN      NaN   \n",
       "1                  NaN      NaN      NaN      NaN      NaN      NaN      NaN   \n",
       "2                  NaN      NaN      NaN      NaN      NaN      NaN      NaN   \n",
       "3                  NaN      NaN      NaN      NaN      NaN      NaN      NaN   \n",
       "4                  NaN      NaN      NaN      NaN      NaN      NaN      NaN   \n",
       "\n",
       "   verification_status_Source Verified  verification_status_Verified  \\\n",
       "0                                  NaN                           NaN   \n",
       "1                                  NaN                           NaN   \n",
       "2                                  NaN                           NaN   \n",
       "3                                  NaN                           NaN   \n",
       "4                                  NaN                           NaN   \n",
       "\n",
       "   term_months_ 60   \n",
       "0               NaN  \n",
       "1               NaN  \n",
       "2               NaN  \n",
       "3               NaN  \n",
       "4               NaN  "
      ]
     },
     "execution_count": 58,
     "metadata": {},
     "output_type": "execute_result"
    }
   ],
   "source": [
    "df_final_sc.head()"
   ]
  },
  {
   "cell_type": "code",
   "execution_count": 59,
   "id": "faeefc2f",
   "metadata": {},
   "outputs": [],
   "source": [
    "file_name_sc='clean_loan_data_scaled_Nov17.xlsx'\n",
    "df_final_sc.to_excel(file_name_sc)"
   ]
  },
  {
   "cell_type": "code",
   "execution_count": 65,
   "id": "e9865320",
   "metadata": {},
   "outputs": [],
   "source": [
    "def interest_rate(ints):\n",
    "    if ints >= 5 and ints <10:\n",
    "        return 'low'\n",
    "    elif ints > 10 and ints <=20:\n",
    "        return 'medium'\n",
    "    else:\n",
    "        return 'high'\n",
    "\n"
   ]
  },
  {
   "cell_type": "code",
   "execution_count": 66,
   "id": "d713260a",
   "metadata": {},
   "outputs": [],
   "source": [
    "d_clean2=pd.read_csv(\"/Users/shay/Desktop/MIT/Courses/Machine Learning/Project/clean_loan_data_v2.csv\")"
   ]
  },
  {
   "cell_type": "code",
   "execution_count": 67,
   "id": "3c633e3d",
   "metadata": {},
   "outputs": [],
   "source": [
    "d_clean2['interest_cat'] = d_clean2['int_rate'].apply(lambda x: interest_rate(x))"
   ]
  },
  {
   "cell_type": "code",
   "execution_count": 68,
   "id": "dc7e6a9e",
   "metadata": {},
   "outputs": [],
   "source": [
    "file_name3='clean_loan_dataNov17_V2.xlsx'\n",
    "d_clean2.to_excel(file_name3)"
   ]
  }
 ],
 "metadata": {
  "kernelspec": {
   "display_name": "Python 3",
   "language": "python",
   "name": "python3"
  },
  "language_info": {
   "codemirror_mode": {
    "name": "ipython",
    "version": 3
   },
   "file_extension": ".py",
   "mimetype": "text/x-python",
   "name": "python",
   "nbconvert_exporter": "python",
   "pygments_lexer": "ipython3",
   "version": "3.8.8"
  }
 },
 "nbformat": 4,
 "nbformat_minor": 5
}
